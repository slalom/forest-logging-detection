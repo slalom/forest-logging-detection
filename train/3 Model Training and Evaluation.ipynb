{
 "cells": [
  {
   "cell_type": "markdown",
   "metadata": {},
   "source": [
    "# Classifying Urban sounds using Deep Learning\n",
    "\n",
    "## 3 Model Training and Evaluation "
   ]
  },
  {
   "cell_type": "markdown",
   "metadata": {},
   "source": [
    "### Load Preprocessed data "
   ]
  },
  {
   "cell_type": "code",
   "execution_count": 1,
   "metadata": {},
   "outputs": [],
   "source": [
    "# retrieve the preprocessed data from previous notebook\n",
    "\n",
    "%store -r x_train \n",
    "%store -r x_test \n",
    "%store -r y_train \n",
    "%store -r y_test \n",
    "%store -r yy \n",
    "%store -r le"
   ]
  },
  {
   "cell_type": "markdown",
   "metadata": {},
   "source": [
    "### Initial model architecture - MLP\n",
    "\n",
    "We will start with constructing a Multilayer Perceptron (MLP) Neural Network using Keras and a Tensorflow backend. \n",
    "\n",
    "Starting with a `sequential` model so we can build the model layer by layer. \n",
    "\n",
    "We will begin with a simple model architecture, consisting of three layers, an input layer, a hidden layer and an output layer. All three layers will be of the `dense` layer type which is a standard layer type that is used in many cases for neural networks. \n",
    "\n",
    "The first layer will receive the input shape. As each sample contains 40 MFCCs (or columns) we have a shape of (1x40) this means we will start with an input shape of 40. \n",
    "\n",
    "The first two layers will have 256 nodes. The activation function we will be using for our first 2 layers is the `ReLU`, or `Rectified Linear Activation`. This activation function has been proven to work well in neural networks.\n",
    "\n",
    "We will also apply a `Dropout` value of 50% on our first two layers. This will randomly exclude nodes from each update cycle which in turn results in a network that is capable of better generalisation and is less likely to overfit the training data.\n",
    "\n",
    "Our output layer will have 10 nodes (num_labels) which matches the number of possible classifications. The activation is for our output layer is `softmax`. Softmax makes the output sum up to 1 so the output can be interpreted as probabilities. The model will then make its prediction based on which option has the highest probability."
   ]
  },
  {
   "cell_type": "code",
   "execution_count": 2,
   "metadata": {},
   "outputs": [
    {
     "name": "stderr",
     "output_type": "stream",
     "text": [
      "Using TensorFlow backend.\n"
     ]
    },
    {
     "name": "stdout",
     "output_type": "stream",
     "text": [
      "WARNING:tensorflow:From /Users/daniel.siwiec/anaconda3/envs/iot_hackathon/lib/python3.6/site-packages/keras/backend/tensorflow_backend.py:74: The name tf.get_default_graph is deprecated. Please use tf.compat.v1.get_default_graph instead.\n",
      "\n",
      "WARNING:tensorflow:From /Users/daniel.siwiec/anaconda3/envs/iot_hackathon/lib/python3.6/site-packages/keras/backend/tensorflow_backend.py:517: The name tf.placeholder is deprecated. Please use tf.compat.v1.placeholder instead.\n",
      "\n",
      "WARNING:tensorflow:From /Users/daniel.siwiec/anaconda3/envs/iot_hackathon/lib/python3.6/site-packages/keras/backend/tensorflow_backend.py:4138: The name tf.random_uniform is deprecated. Please use tf.random.uniform instead.\n",
      "\n",
      "WARNING:tensorflow:From /Users/daniel.siwiec/anaconda3/envs/iot_hackathon/lib/python3.6/site-packages/keras/backend/tensorflow_backend.py:133: The name tf.placeholder_with_default is deprecated. Please use tf.compat.v1.placeholder_with_default instead.\n",
      "\n",
      "WARNING:tensorflow:From /Users/daniel.siwiec/anaconda3/envs/iot_hackathon/lib/python3.6/site-packages/keras/backend/tensorflow_backend.py:3445: calling dropout (from tensorflow.python.ops.nn_ops) with keep_prob is deprecated and will be removed in a future version.\n",
      "Instructions for updating:\n",
      "Please use `rate` instead of `keep_prob`. Rate should be set to `rate = 1 - keep_prob`.\n"
     ]
    }
   ],
   "source": [
    "import numpy as np\n",
    "from keras.models import Sequential\n",
    "from keras.layers import Dense, Dropout, Activation, Flatten\n",
    "from keras.layers import Convolution2D, MaxPooling2D\n",
    "from keras.optimizers import Adam\n",
    "from keras.utils import np_utils\n",
    "from sklearn import metrics \n",
    "import tensorflow as tf\n",
    "\n",
    "num_labels = yy.shape[1]\n",
    "filter_size = 2\n",
    "\n",
    "# Construct model \n",
    "model = Sequential()\n",
    "\n",
    "model.add(Dense(256, input_shape=(40,)))\n",
    "model.add(Activation('relu'))\n",
    "model.add(Dropout(0.5))\n",
    "\n",
    "model.add(Dense(256))\n",
    "model.add(Activation('relu'))\n",
    "model.add(Dropout(0.5))\n",
    "\n",
    "model.add(Dense(num_labels))\n",
    "model.add(Activation('softmax'))"
   ]
  },
  {
   "cell_type": "code",
   "execution_count": null,
   "metadata": {},
   "outputs": [],
   "source": []
  },
  {
   "cell_type": "markdown",
   "metadata": {},
   "source": [
    "### Compiling the model \n",
    "\n",
    "For compiling our model, we will use the following three parameters: \n",
    "\n",
    "* Loss function - we will use `categorical_crossentropy`. This is the most common choice for classification. A lower score indicates that the model is performing better.\n",
    "\n",
    "* Metrics - we will use the `accuracy` metric which will allow us to view the accuracy score on the validation data when we train the model. \n",
    "\n",
    "* Optimizer - here we will use `adam` which is a generally good optimizer for many use cases.\n"
   ]
  },
  {
   "cell_type": "code",
   "execution_count": 3,
   "metadata": {},
   "outputs": [
    {
     "name": "stdout",
     "output_type": "stream",
     "text": [
      "WARNING:tensorflow:From /Users/daniel.siwiec/anaconda3/envs/iot_hackathon/lib/python3.6/site-packages/keras/optimizers.py:790: The name tf.train.Optimizer is deprecated. Please use tf.compat.v1.train.Optimizer instead.\n",
      "\n",
      "WARNING:tensorflow:From /Users/daniel.siwiec/anaconda3/envs/iot_hackathon/lib/python3.6/site-packages/keras/backend/tensorflow_backend.py:3295: The name tf.log is deprecated. Please use tf.math.log instead.\n",
      "\n"
     ]
    }
   ],
   "source": [
    "# Compile the model\n",
    "model.compile(loss='categorical_crossentropy', metrics=['accuracy'], optimizer='adam') "
   ]
  },
  {
   "cell_type": "code",
   "execution_count": 4,
   "metadata": {},
   "outputs": [
    {
     "name": "stdout",
     "output_type": "stream",
     "text": [
      "_________________________________________________________________\n",
      "Layer (type)                 Output Shape              Param #   \n",
      "=================================================================\n",
      "dense_1 (Dense)              (None, 256)               10496     \n",
      "_________________________________________________________________\n",
      "activation_1 (Activation)    (None, 256)               0         \n",
      "_________________________________________________________________\n",
      "dropout_1 (Dropout)          (None, 256)               0         \n",
      "_________________________________________________________________\n",
      "dense_2 (Dense)              (None, 256)               65792     \n",
      "_________________________________________________________________\n",
      "activation_2 (Activation)    (None, 256)               0         \n",
      "_________________________________________________________________\n",
      "dropout_2 (Dropout)          (None, 256)               0         \n",
      "_________________________________________________________________\n",
      "dense_3 (Dense)              (None, 10)                2570      \n",
      "_________________________________________________________________\n",
      "activation_3 (Activation)    (None, 10)                0         \n",
      "=================================================================\n",
      "Total params: 78,858\n",
      "Trainable params: 78,858\n",
      "Non-trainable params: 0\n",
      "_________________________________________________________________\n",
      "Pre-training accuracy: 11.0475%\n"
     ]
    }
   ],
   "source": [
    "# Display model architecture summary \n",
    "model.summary()\n",
    "\n",
    "# Calculate pre-training accuracy \n",
    "score = model.evaluate(x_test, y_test, verbose=0)\n",
    "accuracy = 100*score[1]\n",
    "\n",
    "print(\"Pre-training accuracy: %.4f%%\" % accuracy)"
   ]
  },
  {
   "cell_type": "markdown",
   "metadata": {},
   "source": [
    "### Training \n",
    "\n",
    "Here we will train the model. \n",
    "\n",
    "We will start with 100 epochs which is the number of times the model will cycle through the data. The model will improve on each cycle until it reaches a certain point. \n",
    "\n",
    "We will also start with a low batch size, as having a large batch size can reduce the generalisation ability of the model. "
   ]
  },
  {
   "cell_type": "code",
   "execution_count": 5,
   "metadata": {},
   "outputs": [
    {
     "name": "stdout",
     "output_type": "stream",
     "text": [
      "WARNING:tensorflow:From /Users/daniel.siwiec/anaconda3/envs/iot_hackathon/lib/python3.6/site-packages/tensorflow/python/ops/math_grad.py:1250: add_dispatch_support.<locals>.wrapper (from tensorflow.python.ops.array_ops) is deprecated and will be removed in a future version.\n",
      "Instructions for updating:\n",
      "Use tf.where in 2.0, which has the same broadcast rule as np.where\n",
      "Train on 6985 samples, validate on 1747 samples\n",
      "Epoch 1/100\n",
      "6985/6985 [==============================] - 2s 281us/step - loss: 11.4262 - acc: 0.1993 - val_loss: 5.8588 - val_acc: 0.3950\n",
      "\n",
      "Epoch 00001: val_loss improved from inf to 5.85880, saving model to saved_models/weights.best.basic_mlp.hdf5\n",
      "Epoch 2/100\n",
      "6985/6985 [==============================] - 1s 167us/step - loss: 5.2079 - acc: 0.3220 - val_loss: 1.9035 - val_acc: 0.3944\n",
      "\n",
      "Epoch 00002: val_loss improved from 5.85880 to 1.90348, saving model to saved_models/weights.best.basic_mlp.hdf5\n",
      "Epoch 3/100\n",
      "6985/6985 [==============================] - 1s 169us/step - loss: 2.0259 - acc: 0.3538 - val_loss: 1.6682 - val_acc: 0.4585\n",
      "\n",
      "Epoch 00003: val_loss improved from 1.90348 to 1.66820, saving model to saved_models/weights.best.basic_mlp.hdf5\n",
      "Epoch 4/100\n",
      "6985/6985 [==============================] - 1s 177us/step - loss: 1.7379 - acc: 0.4175 - val_loss: 1.4137 - val_acc: 0.5610\n",
      "\n",
      "Epoch 00004: val_loss improved from 1.66820 to 1.41369, saving model to saved_models/weights.best.basic_mlp.hdf5\n",
      "Epoch 5/100\n",
      "6985/6985 [==============================] - 1s 171us/step - loss: 1.5699 - acc: 0.4676 - val_loss: 1.2884 - val_acc: 0.6027\n",
      "\n",
      "Epoch 00005: val_loss improved from 1.41369 to 1.28841, saving model to saved_models/weights.best.basic_mlp.hdf5\n",
      "Epoch 6/100\n",
      "6985/6985 [==============================] - 1s 163us/step - loss: 1.4341 - acc: 0.5165 - val_loss: 1.1882 - val_acc: 0.6388\n",
      "\n",
      "Epoch 00006: val_loss improved from 1.28841 to 1.18815, saving model to saved_models/weights.best.basic_mlp.hdf5\n",
      "Epoch 7/100\n",
      "6985/6985 [==============================] - 1s 164us/step - loss: 1.3625 - acc: 0.5294 - val_loss: 1.1292 - val_acc: 0.6440\n",
      "\n",
      "Epoch 00007: val_loss improved from 1.18815 to 1.12916, saving model to saved_models/weights.best.basic_mlp.hdf5\n",
      "Epoch 8/100\n",
      "6985/6985 [==============================] - 1s 164us/step - loss: 1.2773 - acc: 0.5628 - val_loss: 1.0576 - val_acc: 0.6703\n",
      "\n",
      "Epoch 00008: val_loss improved from 1.12916 to 1.05764, saving model to saved_models/weights.best.basic_mlp.hdf5\n",
      "Epoch 9/100\n",
      "6985/6985 [==============================] - 1s 166us/step - loss: 1.2429 - acc: 0.5775 - val_loss: 1.0002 - val_acc: 0.6835\n",
      "\n",
      "Epoch 00009: val_loss improved from 1.05764 to 1.00020, saving model to saved_models/weights.best.basic_mlp.hdf5\n",
      "Epoch 10/100\n",
      "6985/6985 [==============================] - 1s 165us/step - loss: 1.1876 - acc: 0.5990 - val_loss: 0.9738 - val_acc: 0.6892\n",
      "\n",
      "Epoch 00010: val_loss improved from 1.00020 to 0.97377, saving model to saved_models/weights.best.basic_mlp.hdf5\n",
      "Epoch 11/100\n",
      "6985/6985 [==============================] - 1s 169us/step - loss: 1.1407 - acc: 0.6077 - val_loss: 0.9462 - val_acc: 0.7172\n",
      "\n",
      "Epoch 00011: val_loss improved from 0.97377 to 0.94619, saving model to saved_models/weights.best.basic_mlp.hdf5\n",
      "Epoch 12/100\n",
      "6985/6985 [==============================] - 1s 181us/step - loss: 1.1040 - acc: 0.6249 - val_loss: 0.9074 - val_acc: 0.7258\n",
      "\n",
      "Epoch 00012: val_loss improved from 0.94619 to 0.90735, saving model to saved_models/weights.best.basic_mlp.hdf5\n",
      "Epoch 13/100\n",
      "6985/6985 [==============================] - 1s 178us/step - loss: 1.0917 - acc: 0.6345 - val_loss: 0.8655 - val_acc: 0.7321\n",
      "\n",
      "Epoch 00013: val_loss improved from 0.90735 to 0.86549, saving model to saved_models/weights.best.basic_mlp.hdf5\n",
      "Epoch 14/100\n",
      "6985/6985 [==============================] - 1s 175us/step - loss: 1.0390 - acc: 0.6477 - val_loss: 0.8297 - val_acc: 0.7539\n",
      "\n",
      "Epoch 00014: val_loss improved from 0.86549 to 0.82975, saving model to saved_models/weights.best.basic_mlp.hdf5\n",
      "Epoch 15/100\n",
      "6985/6985 [==============================] - 1s 175us/step - loss: 1.0025 - acc: 0.6573 - val_loss: 0.8098 - val_acc: 0.7487\n",
      "\n",
      "Epoch 00015: val_loss improved from 0.82975 to 0.80980, saving model to saved_models/weights.best.basic_mlp.hdf5\n",
      "Epoch 16/100\n",
      "6985/6985 [==============================] - 1s 175us/step - loss: 0.9791 - acc: 0.6663 - val_loss: 0.8017 - val_acc: 0.7510\n",
      "\n",
      "Epoch 00016: val_loss improved from 0.80980 to 0.80174, saving model to saved_models/weights.best.basic_mlp.hdf5\n",
      "Epoch 17/100\n",
      "6985/6985 [==============================] - 1s 183us/step - loss: 0.9473 - acc: 0.6776 - val_loss: 0.7528 - val_acc: 0.7779\n",
      "\n",
      "Epoch 00017: val_loss improved from 0.80174 to 0.75282, saving model to saved_models/weights.best.basic_mlp.hdf5\n",
      "Epoch 18/100\n",
      "6985/6985 [==============================] - 1s 178us/step - loss: 0.9350 - acc: 0.6896 - val_loss: 0.7442 - val_acc: 0.7882\n",
      "\n",
      "Epoch 00018: val_loss improved from 0.75282 to 0.74417, saving model to saved_models/weights.best.basic_mlp.hdf5\n",
      "Epoch 19/100\n",
      "6985/6985 [==============================] - 1s 178us/step - loss: 0.9114 - acc: 0.6880 - val_loss: 0.6850 - val_acc: 0.7882\n",
      "\n",
      "Epoch 00019: val_loss improved from 0.74417 to 0.68501, saving model to saved_models/weights.best.basic_mlp.hdf5\n",
      "Epoch 20/100\n",
      "6985/6985 [==============================] - 1s 177us/step - loss: 0.9061 - acc: 0.6883 - val_loss: 0.6948 - val_acc: 0.7762\n",
      "\n",
      "Epoch 00020: val_loss did not improve from 0.68501\n",
      "Epoch 21/100\n",
      "6985/6985 [==============================] - 1s 184us/step - loss: 0.8683 - acc: 0.7044 - val_loss: 0.6674 - val_acc: 0.7894\n",
      "\n",
      "Epoch 00021: val_loss improved from 0.68501 to 0.66740, saving model to saved_models/weights.best.basic_mlp.hdf5\n",
      "Epoch 22/100\n",
      "6985/6985 [==============================] - 1s 187us/step - loss: 0.8551 - acc: 0.7064 - val_loss: 0.6752 - val_acc: 0.7882\n",
      "\n",
      "Epoch 00022: val_loss did not improve from 0.66740\n",
      "Epoch 23/100\n",
      "6985/6985 [==============================] - 1s 183us/step - loss: 0.8390 - acc: 0.7185 - val_loss: 0.6253 - val_acc: 0.8077\n",
      "\n",
      "Epoch 00023: val_loss improved from 0.66740 to 0.62533, saving model to saved_models/weights.best.basic_mlp.hdf5\n",
      "Epoch 24/100\n",
      "6985/6985 [==============================] - 1s 181us/step - loss: 0.8286 - acc: 0.7225 - val_loss: 0.6466 - val_acc: 0.8071\n",
      "\n",
      "Epoch 00024: val_loss did not improve from 0.62533\n",
      "Epoch 25/100\n",
      "6985/6985 [==============================] - 1s 185us/step - loss: 0.8226 - acc: 0.7178 - val_loss: 0.6468 - val_acc: 0.8002\n",
      "\n",
      "Epoch 00025: val_loss did not improve from 0.62533\n",
      "Epoch 26/100\n",
      "6985/6985 [==============================] - 1s 182us/step - loss: 0.7844 - acc: 0.7386 - val_loss: 0.6165 - val_acc: 0.8128\n",
      "\n",
      "Epoch 00026: val_loss improved from 0.62533 to 0.61649, saving model to saved_models/weights.best.basic_mlp.hdf5\n",
      "Epoch 27/100\n",
      "6985/6985 [==============================] - 1s 181us/step - loss: 0.7822 - acc: 0.7343 - val_loss: 0.6166 - val_acc: 0.8082\n",
      "\n",
      "Epoch 00027: val_loss did not improve from 0.61649\n",
      "Epoch 28/100\n",
      "6985/6985 [==============================] - 1s 164us/step - loss: 0.7907 - acc: 0.7331 - val_loss: 0.6002 - val_acc: 0.8122\n",
      "\n",
      "Epoch 00028: val_loss improved from 0.61649 to 0.60023, saving model to saved_models/weights.best.basic_mlp.hdf5\n",
      "Epoch 29/100\n",
      "6985/6985 [==============================] - 1s 172us/step - loss: 0.7832 - acc: 0.7400 - val_loss: 0.5829 - val_acc: 0.8226\n",
      "\n",
      "Epoch 00029: val_loss improved from 0.60023 to 0.58287, saving model to saved_models/weights.best.basic_mlp.hdf5\n",
      "Epoch 30/100\n",
      "6985/6985 [==============================] - 1s 170us/step - loss: 0.7632 - acc: 0.7387 - val_loss: 0.5843 - val_acc: 0.8237\n",
      "\n",
      "Epoch 00030: val_loss did not improve from 0.58287\n",
      "Epoch 31/100\n",
      "6985/6985 [==============================] - 1s 172us/step - loss: 0.7394 - acc: 0.7473 - val_loss: 0.5802 - val_acc: 0.8208\n",
      "\n",
      "Epoch 00031: val_loss improved from 0.58287 to 0.58016, saving model to saved_models/weights.best.basic_mlp.hdf5\n",
      "Epoch 32/100\n",
      "6985/6985 [==============================] - 1s 171us/step - loss: 0.7289 - acc: 0.7526 - val_loss: 0.5771 - val_acc: 0.8237\n",
      "\n",
      "Epoch 00032: val_loss improved from 0.58016 to 0.57710, saving model to saved_models/weights.best.basic_mlp.hdf5\n",
      "Epoch 33/100\n",
      "6985/6985 [==============================] - 1s 172us/step - loss: 0.7407 - acc: 0.7463 - val_loss: 0.5537 - val_acc: 0.8294\n"
     ]
    },
    {
     "name": "stdout",
     "output_type": "stream",
     "text": [
      "\n",
      "Epoch 00033: val_loss improved from 0.57710 to 0.55368, saving model to saved_models/weights.best.basic_mlp.hdf5\n",
      "Epoch 34/100\n",
      "6985/6985 [==============================] - 1s 174us/step - loss: 0.7184 - acc: 0.7559 - val_loss: 0.5669 - val_acc: 0.8288\n",
      "\n",
      "Epoch 00034: val_loss did not improve from 0.55368\n",
      "Epoch 35/100\n",
      "6985/6985 [==============================] - 1s 170us/step - loss: 0.7150 - acc: 0.7623 - val_loss: 0.5611 - val_acc: 0.8386\n",
      "\n",
      "Epoch 00035: val_loss did not improve from 0.55368\n",
      "Epoch 36/100\n",
      "6985/6985 [==============================] - 1s 175us/step - loss: 0.7156 - acc: 0.7589 - val_loss: 0.5447 - val_acc: 0.8374\n",
      "\n",
      "Epoch 00036: val_loss improved from 0.55368 to 0.54467, saving model to saved_models/weights.best.basic_mlp.hdf5\n",
      "Epoch 37/100\n",
      "6985/6985 [==============================] - 1s 168us/step - loss: 0.6985 - acc: 0.7612 - val_loss: 0.5461 - val_acc: 0.8357\n",
      "\n",
      "Epoch 00037: val_loss did not improve from 0.54467\n",
      "Epoch 38/100\n",
      "6985/6985 [==============================] - 1s 165us/step - loss: 0.7020 - acc: 0.7628 - val_loss: 0.5586 - val_acc: 0.8248\n",
      "\n",
      "Epoch 00038: val_loss did not improve from 0.54467\n",
      "Epoch 39/100\n",
      "6985/6985 [==============================] - 1s 167us/step - loss: 0.7053 - acc: 0.7576 - val_loss: 0.5529 - val_acc: 0.8340\n",
      "\n",
      "Epoch 00039: val_loss did not improve from 0.54467\n",
      "Epoch 40/100\n",
      "6985/6985 [==============================] - 1s 166us/step - loss: 0.6949 - acc: 0.7688 - val_loss: 0.5492 - val_acc: 0.8363\n",
      "\n",
      "Epoch 00040: val_loss did not improve from 0.54467\n",
      "Epoch 41/100\n",
      "6985/6985 [==============================] - 1s 164us/step - loss: 0.6732 - acc: 0.7651 - val_loss: 0.5252 - val_acc: 0.8506\n",
      "\n",
      "Epoch 00041: val_loss improved from 0.54467 to 0.52521, saving model to saved_models/weights.best.basic_mlp.hdf5\n",
      "Epoch 42/100\n",
      "6985/6985 [==============================] - 1s 175us/step - loss: 0.6808 - acc: 0.7715 - val_loss: 0.5308 - val_acc: 0.8397\n",
      "\n",
      "Epoch 00042: val_loss did not improve from 0.52521\n",
      "Epoch 43/100\n",
      "6985/6985 [==============================] - 1s 171us/step - loss: 0.6713 - acc: 0.7757 - val_loss: 0.5437 - val_acc: 0.8340\n",
      "\n",
      "Epoch 00043: val_loss did not improve from 0.52521\n",
      "Epoch 44/100\n",
      "6985/6985 [==============================] - 1s 166us/step - loss: 0.6642 - acc: 0.7712 - val_loss: 0.5243 - val_acc: 0.8426\n",
      "\n",
      "Epoch 00044: val_loss improved from 0.52521 to 0.52431, saving model to saved_models/weights.best.basic_mlp.hdf5\n",
      "Epoch 45/100\n",
      "6985/6985 [==============================] - 1s 176us/step - loss: 0.6682 - acc: 0.7792 - val_loss: 0.5237 - val_acc: 0.8437\n",
      "\n",
      "Epoch 00045: val_loss improved from 0.52431 to 0.52374, saving model to saved_models/weights.best.basic_mlp.hdf5\n",
      "Epoch 46/100\n",
      "6985/6985 [==============================] - 1s 170us/step - loss: 0.6461 - acc: 0.7785 - val_loss: 0.5144 - val_acc: 0.8409\n",
      "\n",
      "Epoch 00046: val_loss improved from 0.52374 to 0.51437, saving model to saved_models/weights.best.basic_mlp.hdf5\n",
      "Epoch 47/100\n",
      "6985/6985 [==============================] - 1s 172us/step - loss: 0.6543 - acc: 0.7812 - val_loss: 0.5114 - val_acc: 0.8449\n",
      "\n",
      "Epoch 00047: val_loss improved from 0.51437 to 0.51145, saving model to saved_models/weights.best.basic_mlp.hdf5\n",
      "Epoch 48/100\n",
      "6985/6985 [==============================] - 1s 176us/step - loss: 0.6576 - acc: 0.7724 - val_loss: 0.5076 - val_acc: 0.8443\n",
      "\n",
      "Epoch 00048: val_loss improved from 0.51145 to 0.50755, saving model to saved_models/weights.best.basic_mlp.hdf5\n",
      "Epoch 49/100\n",
      "6985/6985 [==============================] - 1s 167us/step - loss: 0.6362 - acc: 0.7815 - val_loss: 0.5041 - val_acc: 0.8506\n",
      "\n",
      "Epoch 00049: val_loss improved from 0.50755 to 0.50410, saving model to saved_models/weights.best.basic_mlp.hdf5\n",
      "Epoch 50/100\n",
      "6985/6985 [==============================] - 1s 172us/step - loss: 0.6464 - acc: 0.7757 - val_loss: 0.4969 - val_acc: 0.8517\n",
      "\n",
      "Epoch 00050: val_loss improved from 0.50410 to 0.49685, saving model to saved_models/weights.best.basic_mlp.hdf5\n",
      "Epoch 51/100\n",
      "6985/6985 [==============================] - 1s 174us/step - loss: 0.6481 - acc: 0.7820 - val_loss: 0.5193 - val_acc: 0.8420\n",
      "\n",
      "Epoch 00051: val_loss did not improve from 0.49685\n",
      "Epoch 52/100\n",
      "6985/6985 [==============================] - 1s 168us/step - loss: 0.6585 - acc: 0.7782 - val_loss: 0.5000 - val_acc: 0.8535\n",
      "\n",
      "Epoch 00052: val_loss did not improve from 0.49685\n",
      "Epoch 53/100\n",
      "6985/6985 [==============================] - 1s 166us/step - loss: 0.6105 - acc: 0.7890 - val_loss: 0.5118 - val_acc: 0.8432\n",
      "\n",
      "Epoch 00053: val_loss did not improve from 0.49685\n",
      "Epoch 54/100\n",
      "6985/6985 [==============================] - 1s 168us/step - loss: 0.6332 - acc: 0.7874 - val_loss: 0.5080 - val_acc: 0.8420\n",
      "\n",
      "Epoch 00054: val_loss did not improve from 0.49685\n",
      "Epoch 55/100\n",
      "6985/6985 [==============================] - 1s 172us/step - loss: 0.6310 - acc: 0.7865 - val_loss: 0.5096 - val_acc: 0.8426\n",
      "\n",
      "Epoch 00055: val_loss did not improve from 0.49685\n",
      "Epoch 56/100\n",
      "6985/6985 [==============================] - 1s 169us/step - loss: 0.6068 - acc: 0.7906 - val_loss: 0.5029 - val_acc: 0.8466\n",
      "\n",
      "Epoch 00056: val_loss did not improve from 0.49685\n",
      "Epoch 57/100\n",
      "6985/6985 [==============================] - 1s 167us/step - loss: 0.6157 - acc: 0.7911 - val_loss: 0.5017 - val_acc: 0.8506\n",
      "\n",
      "Epoch 00057: val_loss did not improve from 0.49685\n",
      "Epoch 58/100\n",
      "6985/6985 [==============================] - 1s 170us/step - loss: 0.6167 - acc: 0.7923 - val_loss: 0.4993 - val_acc: 0.8523\n",
      "\n",
      "Epoch 00058: val_loss did not improve from 0.49685\n",
      "Epoch 59/100\n",
      "6985/6985 [==============================] - 1s 169us/step - loss: 0.5882 - acc: 0.7989 - val_loss: 0.4969 - val_acc: 0.8449\n",
      "\n",
      "Epoch 00059: val_loss did not improve from 0.49685\n",
      "Epoch 60/100\n",
      "6985/6985 [==============================] - 1s 177us/step - loss: 0.6027 - acc: 0.7916 - val_loss: 0.5048 - val_acc: 0.8495\n",
      "\n",
      "Epoch 00060: val_loss did not improve from 0.49685\n",
      "Epoch 61/100\n",
      "6985/6985 [==============================] - 1s 174us/step - loss: 0.6110 - acc: 0.7951 - val_loss: 0.5067 - val_acc: 0.8495\n",
      "\n",
      "Epoch 00061: val_loss did not improve from 0.49685\n",
      "Epoch 62/100\n",
      "6985/6985 [==============================] - 1s 170us/step - loss: 0.6046 - acc: 0.7938 - val_loss: 0.5089 - val_acc: 0.8489\n",
      "\n",
      "Epoch 00062: val_loss did not improve from 0.49685\n",
      "Epoch 63/100\n",
      "6985/6985 [==============================] - 1s 183us/step - loss: 0.5835 - acc: 0.8031 - val_loss: 0.5043 - val_acc: 0.8460\n",
      "\n",
      "Epoch 00063: val_loss did not improve from 0.49685\n",
      "Epoch 64/100\n",
      "6985/6985 [==============================] - 1s 169us/step - loss: 0.5924 - acc: 0.7967 - val_loss: 0.4911 - val_acc: 0.8569\n",
      "\n",
      "Epoch 00064: val_loss improved from 0.49685 to 0.49111, saving model to saved_models/weights.best.basic_mlp.hdf5\n",
      "Epoch 65/100\n",
      "6985/6985 [==============================] - 1s 167us/step - loss: 0.5928 - acc: 0.7979 - val_loss: 0.4871 - val_acc: 0.8495\n",
      "\n",
      "Epoch 00065: val_loss improved from 0.49111 to 0.48711, saving model to saved_models/weights.best.basic_mlp.hdf5\n",
      "Epoch 66/100\n",
      "6985/6985 [==============================] - 1s 176us/step - loss: 0.5879 - acc: 0.8100 - val_loss: 0.4834 - val_acc: 0.8598\n",
      "\n",
      "Epoch 00066: val_loss improved from 0.48711 to 0.48336, saving model to saved_models/weights.best.basic_mlp.hdf5\n",
      "Epoch 67/100\n",
      "6985/6985 [==============================] - 1s 176us/step - loss: 0.5973 - acc: 0.8024 - val_loss: 0.4704 - val_acc: 0.8609\n",
      "\n",
      "Epoch 00067: val_loss improved from 0.48336 to 0.47036, saving model to saved_models/weights.best.basic_mlp.hdf5\n",
      "Epoch 68/100\n",
      "6985/6985 [==============================] - 1s 170us/step - loss: 0.5771 - acc: 0.8089 - val_loss: 0.4689 - val_acc: 0.8535\n",
      "\n",
      "Epoch 00068: val_loss improved from 0.47036 to 0.46890, saving model to saved_models/weights.best.basic_mlp.hdf5\n",
      "Epoch 69/100\n",
      "6985/6985 [==============================] - 1s 172us/step - loss: 0.5953 - acc: 0.7966 - val_loss: 0.4612 - val_acc: 0.8718\n",
      "\n",
      "Epoch 00069: val_loss improved from 0.46890 to 0.46122, saving model to saved_models/weights.best.basic_mlp.hdf5\n",
      "Epoch 70/100\n",
      "6985/6985 [==============================] - 1s 175us/step - loss: 0.5484 - acc: 0.8119 - val_loss: 0.4634 - val_acc: 0.8563\n",
      "\n",
      "Epoch 00070: val_loss did not improve from 0.46122\n",
      "Epoch 71/100\n",
      "6985/6985 [==============================] - 1s 174us/step - loss: 0.5907 - acc: 0.7961 - val_loss: 0.4736 - val_acc: 0.8569\n"
     ]
    },
    {
     "name": "stdout",
     "output_type": "stream",
     "text": [
      "\n",
      "Epoch 00071: val_loss did not improve from 0.46122\n",
      "Epoch 72/100\n",
      "6985/6985 [==============================] - 1s 177us/step - loss: 0.5771 - acc: 0.8067 - val_loss: 0.4727 - val_acc: 0.8523\n",
      "\n",
      "Epoch 00072: val_loss did not improve from 0.46122\n",
      "Epoch 73/100\n",
      "6985/6985 [==============================] - 1s 178us/step - loss: 0.5860 - acc: 0.8040 - val_loss: 0.4752 - val_acc: 0.8569\n",
      "\n",
      "Epoch 00073: val_loss did not improve from 0.46122\n",
      "Epoch 74/100\n",
      "6985/6985 [==============================] - 1s 183us/step - loss: 0.5559 - acc: 0.8132 - val_loss: 0.4680 - val_acc: 0.8598\n",
      "\n",
      "Epoch 00074: val_loss did not improve from 0.46122\n",
      "Epoch 75/100\n",
      "6985/6985 [==============================] - 1s 189us/step - loss: 0.5913 - acc: 0.8039 - val_loss: 0.4849 - val_acc: 0.8569\n",
      "\n",
      "Epoch 00075: val_loss did not improve from 0.46122\n",
      "Epoch 76/100\n",
      "6985/6985 [==============================] - 1s 174us/step - loss: 0.5840 - acc: 0.8064 - val_loss: 0.4578 - val_acc: 0.8529\n",
      "\n",
      "Epoch 00076: val_loss improved from 0.46122 to 0.45784, saving model to saved_models/weights.best.basic_mlp.hdf5\n",
      "Epoch 77/100\n",
      "6985/6985 [==============================] - 1s 174us/step - loss: 0.5671 - acc: 0.8115 - val_loss: 0.4636 - val_acc: 0.8535\n",
      "\n",
      "Epoch 00077: val_loss did not improve from 0.45784\n",
      "Epoch 78/100\n",
      "6985/6985 [==============================] - 1s 167us/step - loss: 0.5538 - acc: 0.8133 - val_loss: 0.4711 - val_acc: 0.8512\n",
      "\n",
      "Epoch 00078: val_loss did not improve from 0.45784\n",
      "Epoch 79/100\n",
      "6985/6985 [==============================] - 1s 162us/step - loss: 0.5412 - acc: 0.8145 - val_loss: 0.4466 - val_acc: 0.8586\n",
      "\n",
      "Epoch 00079: val_loss improved from 0.45784 to 0.44659, saving model to saved_models/weights.best.basic_mlp.hdf5\n",
      "Epoch 80/100\n",
      "6985/6985 [==============================] - 1s 164us/step - loss: 0.5602 - acc: 0.8103 - val_loss: 0.4548 - val_acc: 0.8552\n",
      "\n",
      "Epoch 00080: val_loss did not improve from 0.44659\n",
      "Epoch 81/100\n",
      "6985/6985 [==============================] - 1s 164us/step - loss: 0.5568 - acc: 0.8156 - val_loss: 0.4635 - val_acc: 0.8603\n",
      "\n",
      "Epoch 00081: val_loss did not improve from 0.44659\n",
      "Epoch 82/100\n",
      "6985/6985 [==============================] - 1s 171us/step - loss: 0.5717 - acc: 0.8105 - val_loss: 0.4615 - val_acc: 0.8592\n",
      "\n",
      "Epoch 00082: val_loss did not improve from 0.44659\n",
      "Epoch 83/100\n",
      "6985/6985 [==============================] - 1s 177us/step - loss: 0.5543 - acc: 0.8087 - val_loss: 0.4548 - val_acc: 0.8609\n",
      "\n",
      "Epoch 00083: val_loss did not improve from 0.44659\n",
      "Epoch 84/100\n",
      "6985/6985 [==============================] - 1s 176us/step - loss: 0.5650 - acc: 0.8117 - val_loss: 0.4756 - val_acc: 0.8454\n",
      "\n",
      "Epoch 00084: val_loss did not improve from 0.44659\n",
      "Epoch 85/100\n",
      "6985/6985 [==============================] - 1s 171us/step - loss: 0.5753 - acc: 0.8087 - val_loss: 0.4724 - val_acc: 0.8569\n",
      "\n",
      "Epoch 00085: val_loss did not improve from 0.44659\n",
      "Epoch 86/100\n",
      "6985/6985 [==============================] - 1s 170us/step - loss: 0.5680 - acc: 0.8072 - val_loss: 0.4723 - val_acc: 0.8626\n",
      "\n",
      "Epoch 00086: val_loss did not improve from 0.44659\n",
      "Epoch 87/100\n",
      "6985/6985 [==============================] - 1s 174us/step - loss: 0.5821 - acc: 0.8090 - val_loss: 0.4721 - val_acc: 0.8580\n",
      "\n",
      "Epoch 00087: val_loss did not improve from 0.44659\n",
      "Epoch 88/100\n",
      "6985/6985 [==============================] - 1s 173us/step - loss: 0.5389 - acc: 0.8205 - val_loss: 0.4439 - val_acc: 0.8661\n",
      "\n",
      "Epoch 00088: val_loss improved from 0.44659 to 0.44392, saving model to saved_models/weights.best.basic_mlp.hdf5\n",
      "Epoch 89/100\n",
      "6985/6985 [==============================] - 1s 174us/step - loss: 0.5386 - acc: 0.8220 - val_loss: 0.4630 - val_acc: 0.8535\n",
      "\n",
      "Epoch 00089: val_loss did not improve from 0.44392\n",
      "Epoch 90/100\n",
      "6985/6985 [==============================] - 1s 171us/step - loss: 0.5563 - acc: 0.8135 - val_loss: 0.4826 - val_acc: 0.8529\n",
      "\n",
      "Epoch 00090: val_loss did not improve from 0.44392\n",
      "Epoch 91/100\n",
      "6985/6985 [==============================] - 1s 170us/step - loss: 0.5465 - acc: 0.8170 - val_loss: 0.4637 - val_acc: 0.8638\n",
      "\n",
      "Epoch 00091: val_loss did not improve from 0.44392\n",
      "Epoch 92/100\n",
      "6985/6985 [==============================] - 1s 169us/step - loss: 0.5450 - acc: 0.8166 - val_loss: 0.4346 - val_acc: 0.8672\n",
      "\n",
      "Epoch 00092: val_loss improved from 0.44392 to 0.43459, saving model to saved_models/weights.best.basic_mlp.hdf5\n",
      "Epoch 93/100\n",
      "6985/6985 [==============================] - 1s 166us/step - loss: 0.5282 - acc: 0.8265 - val_loss: 0.4509 - val_acc: 0.8580\n",
      "\n",
      "Epoch 00093: val_loss did not improve from 0.43459\n",
      "Epoch 94/100\n",
      "6985/6985 [==============================] - 1s 177us/step - loss: 0.5532 - acc: 0.8103 - val_loss: 0.4670 - val_acc: 0.8540\n",
      "\n",
      "Epoch 00094: val_loss did not improve from 0.43459\n",
      "Epoch 95/100\n",
      "6985/6985 [==============================] - 1s 172us/step - loss: 0.5185 - acc: 0.8251 - val_loss: 0.4389 - val_acc: 0.8689\n",
      "\n",
      "Epoch 00095: val_loss did not improve from 0.43459\n",
      "Epoch 96/100\n",
      "6985/6985 [==============================] - 1s 170us/step - loss: 0.5551 - acc: 0.8117 - val_loss: 0.4521 - val_acc: 0.8626\n",
      "\n",
      "Epoch 00096: val_loss did not improve from 0.43459\n",
      "Epoch 97/100\n",
      "6985/6985 [==============================] - 1s 165us/step - loss: 0.5314 - acc: 0.8218 - val_loss: 0.4403 - val_acc: 0.8746\n",
      "\n",
      "Epoch 00097: val_loss did not improve from 0.43459\n",
      "Epoch 98/100\n",
      "6985/6985 [==============================] - 1s 175us/step - loss: 0.5295 - acc: 0.8259 - val_loss: 0.4494 - val_acc: 0.8666\n",
      "\n",
      "Epoch 00098: val_loss did not improve from 0.43459\n",
      "Epoch 99/100\n",
      "6985/6985 [==============================] - 1s 163us/step - loss: 0.5334 - acc: 0.8205 - val_loss: 0.4802 - val_acc: 0.8620\n",
      "\n",
      "Epoch 00099: val_loss did not improve from 0.43459\n",
      "Epoch 100/100\n",
      "6985/6985 [==============================] - 1s 161us/step - loss: 0.5194 - acc: 0.8253 - val_loss: 0.4490 - val_acc: 0.8672\n",
      "\n",
      "Epoch 00100: val_loss did not improve from 0.43459\n",
      "Training completed in time:  0:02:02.648805\n"
     ]
    }
   ],
   "source": [
    "from keras.callbacks import ModelCheckpoint \n",
    "from datetime import datetime \n",
    "\n",
    "num_epochs = 100\n",
    "num_batch_size = 32\n",
    "\n",
    "checkpointer = ModelCheckpoint(filepath='saved_models/weights.best.basic_mlp.hdf5', \n",
    "                               verbose=1, save_best_only=True)\n",
    "start = datetime.now()\n",
    "\n",
    "model.fit(x_train, y_train, batch_size=num_batch_size, epochs=num_epochs, validation_data=(x_test, y_test), callbacks=[checkpointer], verbose=1)\n",
    "\n",
    "\n",
    "duration = datetime.now() - start\n",
    "print(\"Training completed in time: \", duration)"
   ]
  },
  {
   "cell_type": "markdown",
   "metadata": {},
   "source": [
    "### Test the model \n",
    "\n",
    "Here we will review the accuracy of the model on both the training and test data sets. "
   ]
  },
  {
   "cell_type": "code",
   "execution_count": 6,
   "metadata": {},
   "outputs": [
    {
     "name": "stdout",
     "output_type": "stream",
     "text": [
      "Training Accuracy:  0.9191123836878461\n",
      "Testing Accuracy:  0.8672009156851613\n"
     ]
    }
   ],
   "source": [
    "# Evaluating the model on the training and testing set\n",
    "score = model.evaluate(x_train, y_train, verbose=0)\n",
    "print(\"Training Accuracy: \", score[1])\n",
    "\n",
    "score = model.evaluate(x_test, y_test, verbose=0)\n",
    "print(\"Testing Accuracy: \", score[1])"
   ]
  },
  {
   "cell_type": "markdown",
   "metadata": {},
   "source": [
    "The initial Training and Testing accuracy scores are quite high. As there is not a great difference between the Training and Test scores (~5%) this suggests that the model has not suffered from overfitting. "
   ]
  },
  {
   "cell_type": "markdown",
   "metadata": {},
   "source": [
    "### Predictions  \n",
    "\n",
    "Here we will build a method which will allow us to test the models predictions on a specified audio .wav file. "
   ]
  },
  {
   "cell_type": "code",
   "execution_count": 7,
   "metadata": {},
   "outputs": [],
   "source": [
    "import numpy as np\n",
    "import librosa \n",
    "\n",
    "\n",
    "def extract_feature(file_name):\n",
    "   \n",
    "    try:\n",
    "        audio_data, sample_rate = librosa.load(file_name, res_type='kaiser_fast') \n",
    "        mfccs = librosa.feature.mfcc(y=audio_data, sr=sample_rate, n_mfcc=40)\n",
    "        mfccsscaled = np.mean(mfccs.T,axis=0)\n",
    "        \n",
    "    except Exception as e:\n",
    "        print(\"Error encountered while parsing file: \", file)\n",
    "        return None, None\n",
    "\n",
    "    return np.array([mfccsscaled])\n"
   ]
  },
  {
   "cell_type": "code",
   "execution_count": 8,
   "metadata": {},
   "outputs": [],
   "source": [
    "def print_prediction(file_name):\n",
    "    prediction_feature = extract_feature(file_name) \n",
    "\n",
    "    predicted_vector = model.predict_classes(prediction_feature)\n",
    "    predicted_class = le.inverse_transform(predicted_vector) \n",
    "    print(\"The predicted class is:\", predicted_class[0], '\\n') \n",
    "\n",
    "    predicted_proba_vector = model.predict_proba(prediction_feature) \n",
    "    predicted_proba = predicted_proba_vector[0]\n",
    "    for i in range(len(predicted_proba)): \n",
    "        category = le.inverse_transform(np.array([i]))\n",
    "        print(category[0], \"\\t\\t : \", format(predicted_proba[i], '.32f') )"
   ]
  },
  {
   "cell_type": "markdown",
   "metadata": {},
   "source": [
    "### Validation \n",
    "\n",
    "#### Test with sample data \n",
    "\n",
    "Initial sainity check to verify the predictions using a subsection of the sample audio files we explored in the first notebook. We expect the bulk of these to be classified correctly. "
   ]
  },
  {
   "cell_type": "code",
   "execution_count": 9,
   "metadata": {},
   "outputs": [
    {
     "name": "stdout",
     "output_type": "stream",
     "text": [
      "The predicted class is: air_conditioner \n",
      "\n",
      "air_conditioner \t\t :  0.99970954656600952148437500000000\n",
      "car_horn \t\t :  0.00001530246845504734665155410767\n",
      "children_playing \t\t :  0.00004839352914132177829742431641\n",
      "dog_bark \t\t :  0.00001115840950660640373826026917\n",
      "drilling \t\t :  0.00006572431448148563504219055176\n",
      "engine_idling \t\t :  0.00005342079748515971004962921143\n",
      "gun_shot \t\t :  0.00000191707545127428602427244186\n",
      "jackhammer \t\t :  0.00000161822993050009245052933693\n",
      "siren \t\t :  0.00000137717233883449807763099670\n",
      "street_music \t\t :  0.00009145555668510496616363525391\n"
     ]
    }
   ],
   "source": [
    "# Class: Air Conditioner\n",
    "\n",
    "filename = '../UrbanSound8K/audio/fold5/100852-0-0-0.wav' \n",
    "print_prediction(filename) "
   ]
  },
  {
   "cell_type": "code",
   "execution_count": 10,
   "metadata": {
    "scrolled": true
   },
   "outputs": [
    {
     "name": "stdout",
     "output_type": "stream",
     "text": [
      "The predicted class is: drilling \n",
      "\n",
      "air_conditioner \t\t :  0.00000003351729560563398990780115\n",
      "car_horn \t\t :  0.00003639040369307622313499450684\n",
      "children_playing \t\t :  0.00008489481842843815684318542480\n",
      "dog_bark \t\t :  0.00805395096540451049804687500000\n",
      "drilling \t\t :  0.71168625354766845703125000000000\n",
      "engine_idling \t\t :  0.00000004893985661169608647469431\n",
      "gun_shot \t\t :  0.00000127771272673271596431732178\n",
      "jackhammer \t\t :  0.00000018530435852426307974383235\n",
      "siren \t\t :  0.00000043167796093257493339478970\n",
      "street_music \t\t :  0.28013649582862854003906250000000\n"
     ]
    }
   ],
   "source": [
    "# Class: Drilling\n",
    "\n",
    "filename = '../UrbanSound8K/audio/fold3/103199-4-0-0.wav'\n",
    "print_prediction(filename) "
   ]
  },
  {
   "cell_type": "code",
   "execution_count": 11,
   "metadata": {},
   "outputs": [
    {
     "name": "stdout",
     "output_type": "stream",
     "text": [
      "The predicted class is: street_music \n",
      "\n",
      "air_conditioner \t\t :  0.00352347572334110736846923828125\n",
      "car_horn \t\t :  0.00111965404357761144638061523438\n",
      "children_playing \t\t :  0.01668413355946540832519531250000\n",
      "dog_bark \t\t :  0.00273463386110961437225341796875\n",
      "drilling \t\t :  0.00432230532169342041015625000000\n",
      "engine_idling \t\t :  0.00023902540851850062608718872070\n",
      "gun_shot \t\t :  0.00012609839905053377151489257812\n",
      "jackhammer \t\t :  0.01408823207020759582519531250000\n",
      "siren \t\t :  0.00038336782017722725868225097656\n",
      "street_music \t\t :  0.95677900314331054687500000000000\n"
     ]
    }
   ],
   "source": [
    "# Class: Street music \n",
    "\n",
    "filename = '../UrbanSound8K/audio/fold7/101848-9-0-0.wav'\n",
    "print_prediction(filename) "
   ]
  },
  {
   "cell_type": "code",
   "execution_count": 12,
   "metadata": {},
   "outputs": [
    {
     "name": "stdout",
     "output_type": "stream",
     "text": [
      "The predicted class is: dog_bark \n",
      "\n",
      "air_conditioner \t\t :  0.00029011914739385247230529785156\n",
      "car_horn \t\t :  0.09502947330474853515625000000000\n",
      "children_playing \t\t :  0.02013516426086425781250000000000\n",
      "dog_bark \t\t :  0.43034020066261291503906250000000\n",
      "drilling \t\t :  0.16503509879112243652343750000000\n",
      "engine_idling \t\t :  0.00213304418139159679412841796875\n",
      "gun_shot \t\t :  0.03804671764373779296875000000000\n",
      "jackhammer \t\t :  0.01010870467871427536010742187500\n",
      "siren \t\t :  0.00583092914894223213195800781250\n",
      "street_music \t\t :  0.23305052518844604492187500000000\n"
     ]
    }
   ],
   "source": [
    "# Class: Car Horn \n",
    "\n",
    "filename = '../UrbanSound8K/audio/fold10/100648-1-0-0.wav'\n",
    "print_prediction(filename) "
   ]
  },
  {
   "cell_type": "markdown",
   "metadata": {},
   "source": [
    "#### Observations \n",
    "\n",
    "From this brief sanity check the model seems to predict well. One errror was observed whereby a car horn was incorrectly classifed as a dog bark. \n",
    "\n",
    "We can see from the per class confidence that this was quite a low score (43%). This allows follows our early observation that a dog bark and car horn are similar in spectral shape. "
   ]
  },
  {
   "cell_type": "markdown",
   "metadata": {},
   "source": [
    "### Other audio\n",
    "\n",
    "Here we will use a sample of various copyright free sounds that we not part of either our test or training data to further validate our model. "
   ]
  },
  {
   "cell_type": "code",
   "execution_count": 13,
   "metadata": {},
   "outputs": [
    {
     "name": "stdout",
     "output_type": "stream",
     "text": [
      "The predicted class is: dog_bark \n",
      "\n",
      "air_conditioner \t\t :  0.00003152462522848509252071380615\n",
      "car_horn \t\t :  0.00074103189399465918540954589844\n",
      "children_playing \t\t :  0.09837145358324050903320312500000\n",
      "dog_bark \t\t :  0.61339396238327026367187500000000\n",
      "drilling \t\t :  0.01142074353992938995361328125000\n",
      "engine_idling \t\t :  0.00030014684307388961315155029297\n",
      "gun_shot \t\t :  0.23123309016227722167968750000000\n",
      "jackhammer \t\t :  0.00000032560546969762071967124939\n",
      "siren \t\t :  0.01272556930780410766601562500000\n",
      "street_music \t\t :  0.03178221359848976135253906250000\n"
     ]
    }
   ],
   "source": [
    "filename = 'Evaluation audio/dog_bark_1.wav'\n",
    "print_prediction(filename) "
   ]
  },
  {
   "cell_type": "code",
   "execution_count": 14,
   "metadata": {
    "scrolled": true
   },
   "outputs": [
    {
     "name": "stdout",
     "output_type": "stream",
     "text": [
      "The predicted class is: air_conditioner \n",
      "\n",
      "air_conditioner \t\t :  0.52631795406341552734375000000000\n",
      "car_horn \t\t :  0.00000396633504351484589278697968\n",
      "children_playing \t\t :  0.02661064639687538146972656250000\n",
      "dog_bark \t\t :  0.00023366810637526214122772216797\n",
      "drilling \t\t :  0.30945852398872375488281250000000\n",
      "engine_idling \t\t :  0.00249849865213036537170410156250\n",
      "gun_shot \t\t :  0.00309279770590364933013916015625\n",
      "jackhammer \t\t :  0.12444933503866195678710937500000\n",
      "siren \t\t :  0.00000264825098383880686014890671\n",
      "street_music \t\t :  0.00733195338398218154907226562500\n"
     ]
    }
   ],
   "source": [
    "filename = 'Evaluation audio/drilling_1.wav'\n",
    "\n",
    "print_prediction(filename) "
   ]
  },
  {
   "cell_type": "code",
   "execution_count": 15,
   "metadata": {},
   "outputs": [
    {
     "name": "stdout",
     "output_type": "stream",
     "text": [
      "The predicted class is: dog_bark \n",
      "\n",
      "air_conditioner \t\t :  0.06747675687074661254882812500000\n",
      "car_horn \t\t :  0.00438506016507744789123535156250\n",
      "children_playing \t\t :  0.00190366897732019424438476562500\n",
      "dog_bark \t\t :  0.47365766763687133789062500000000\n",
      "drilling \t\t :  0.00409927684813737869262695312500\n",
      "engine_idling \t\t :  0.11580722033977508544921875000000\n",
      "gun_shot \t\t :  0.00371204037219285964965820312500\n",
      "jackhammer \t\t :  0.00006764467252651229500770568848\n",
      "siren \t\t :  0.00395335722714662551879882812500\n",
      "street_music \t\t :  0.32493731379508972167968750000000\n"
     ]
    }
   ],
   "source": [
    "filename = 'Evaluation audio/gun_shot_1.wav'\n",
    "\n",
    "print_prediction(filename) \n",
    "\n",
    "# sample data weighted towards gun shot - peak in the dog barking sample is simmilar in shape to the gun shot sample"
   ]
  },
  {
   "cell_type": "code",
   "execution_count": 16,
   "metadata": {},
   "outputs": [
    {
     "name": "stdout",
     "output_type": "stream",
     "text": [
      "The predicted class is: siren \n",
      "\n",
      "air_conditioner \t\t :  0.00000482561426906613633036613464\n",
      "car_horn \t\t :  0.00048245262587442994117736816406\n",
      "children_playing \t\t :  0.00856084469705820083618164062500\n",
      "dog_bark \t\t :  0.23407638072967529296875000000000\n",
      "drilling \t\t :  0.00001239275934494799003005027771\n",
      "engine_idling \t\t :  0.15051437914371490478515625000000\n",
      "gun_shot \t\t :  0.00215621548704802989959716796875\n",
      "jackhammer \t\t :  0.00000930212991079315543174743652\n",
      "siren \t\t :  0.58780175447463989257812500000000\n",
      "street_music \t\t :  0.01638141646981239318847656250000\n"
     ]
    }
   ],
   "source": [
    "filename = 'Evaluation audio/siren_1.wav'\n",
    "\n",
    "print_prediction(filename) "
   ]
  },
  {
   "cell_type": "markdown",
   "metadata": {},
   "source": [
    "#### Observations \n",
    "\n",
    "The performance of our initial model is satisfactorry and has generalised well, seeming to predict well when tested against new audio data. "
   ]
  },
  {
   "cell_type": "markdown",
   "metadata": {},
   "source": [
    "### *In the next notebook we will refine our model*"
   ]
  }
 ],
 "metadata": {
  "kernelspec": {
   "display_name": "Python [conda env:iot_hackathon] *",
   "language": "python",
   "name": "conda-env-iot_hackathon-py"
  },
  "language_info": {
   "codemirror_mode": {
    "name": "ipython",
    "version": 3
   },
   "file_extension": ".py",
   "mimetype": "text/x-python",
   "name": "python",
   "nbconvert_exporter": "python",
   "pygments_lexer": "ipython3",
   "version": "3.6.9"
  }
 },
 "nbformat": 4,
 "nbformat_minor": 2
}
