{
 "cells": [
  {
   "cell_type": "markdown",
   "metadata": {},
   "source": [
    "# Classifying Urban sounds using Deep Learning\n",
    "\n",
    "## 4 Model Refinement "
   ]
  },
  {
   "cell_type": "markdown",
   "metadata": {},
   "source": [
    "### Load Preprocessed data "
   ]
  },
  {
   "cell_type": "code",
   "execution_count": 1,
   "metadata": {},
   "outputs": [],
   "source": [
    "# retrieve the preprocessed data from previous notebook\n",
    "\n",
    "%store -r x_train \n",
    "%store -r x_test \n",
    "%store -r y_train \n",
    "%store -r y_test \n",
    "%store -r yy \n",
    "%store -r le"
   ]
  },
  {
   "cell_type": "markdown",
   "metadata": {},
   "source": [
    "#### Model refinement\n",
    "\n",
    "In our inital attempt, we were able to achieve a Classification Accuracy score of: \n",
    "\n",
    "* Training data Accuracy:  92.3% \n",
    "* Testing data Accuracy:  87% \n",
    "\n",
    "We will now see if we can improve upon that score using a Convolutional Neural Network (CNN). "
   ]
  },
  {
   "cell_type": "markdown",
   "metadata": {},
   "source": [
    "#### Feature Extraction refinement \n",
    "\n",
    "In the prevous feature extraction stage, the MFCC vectors would vary in size for the different audio files (depending on the samples duration). \n",
    "\n",
    "However, CNNs require a fixed size for all inputs. To overcome this we will zero pad the output vectors to make them all the same size. "
   ]
  },
  {
   "cell_type": "code",
   "execution_count": 2,
   "metadata": {},
   "outputs": [],
   "source": [
    "import numpy as np\n",
    "max_pad_len = 174\n",
    "\n",
    "def extract_features(file_name):\n",
    "   \n",
    "    try:\n",
    "        audio, sample_rate = librosa.load(file_name, res_type='kaiser_fast') \n",
    "        mfccs = librosa.feature.mfcc(y=audio, sr=sample_rate, n_mfcc=40)\n",
    "        pad_width = max_pad_len - mfccs.shape[1]\n",
    "        mfccs = np.pad(mfccs, pad_width=((0, 0), (0, pad_width)), mode='constant')\n",
    "        \n",
    "    except Exception as e:\n",
    "        print(\"Error encountered while parsing file: \", file_name)\n",
    "        return None \n",
    "     \n",
    "    return mfccs"
   ]
  },
  {
   "cell_type": "code",
   "execution_count": 3,
   "metadata": {},
   "outputs": [
    {
     "name": "stdout",
     "output_type": "stream",
     "text": [
      "Finished feature extraction from  8732  files\n"
     ]
    }
   ],
   "source": [
    "# Load various imports \n",
    "import pandas as pd\n",
    "import os\n",
    "import librosa\n",
    "\n",
    "# Set the path to the full UrbanSound dataset \n",
    "fulldatasetpath = '../UrbanSound8K/audio/'\n",
    "\n",
    "metadata = pd.read_csv('../UrbanSound8K/metadata/UrbanSound8K.csv')\n",
    "\n",
    "features = []\n",
    "\n",
    "# Iterate through each sound file and extract the features \n",
    "for index, row in metadata.iterrows():\n",
    "    \n",
    "    file_name = os.path.join(os.path.abspath(fulldatasetpath),'fold'+str(row[\"fold\"])+'/',str(row[\"slice_file_name\"]))\n",
    "    \n",
    "    class_label = row[\"class\"]\n",
    "    data = extract_features(file_name)\n",
    "    \n",
    "    features.append([data, class_label])\n",
    "\n",
    "# Convert into a Panda dataframe \n",
    "featuresdf = pd.DataFrame(features, columns=['feature','class_label'])\n",
    "\n",
    "print('Finished feature extraction from ', len(featuresdf), ' files') "
   ]
  },
  {
   "cell_type": "code",
   "execution_count": 4,
   "metadata": {},
   "outputs": [
    {
     "name": "stderr",
     "output_type": "stream",
     "text": [
      "Using TensorFlow backend.\n"
     ]
    }
   ],
   "source": [
    "from sklearn.preprocessing import LabelEncoder\n",
    "from keras.utils import to_categorical\n",
    "\n",
    "# Convert features and corresponding classification labels into numpy arrays\n",
    "X = np.array(featuresdf.feature.tolist())\n",
    "y = np.array(featuresdf.class_label.tolist())\n",
    "\n",
    "# Encode the classification labels\n",
    "le = LabelEncoder()\n",
    "yy = to_categorical(le.fit_transform(y)) \n",
    "\n",
    "# split the dataset \n",
    "from sklearn.model_selection import train_test_split \n",
    "\n",
    "x_train, x_test, y_train, y_test = train_test_split(X, yy, test_size=0.2, random_state = 42)"
   ]
  },
  {
   "cell_type": "markdown",
   "metadata": {},
   "source": [
    "### Convolutional Neural Network (CNN) model architecture \n",
    "\n",
    "\n",
    "We will modify our model to be a Convolutional Neural Network (CNN) again using Keras and a Tensorflow backend. \n",
    "\n",
    "Again we will use a `sequential` model, starting with a simple model architecture, consisting of four `Conv2D` convolution layers, with our final output layer being a `dense` layer. \n",
    "\n",
    "The convolution layers are designed for feature detection. It works by sliding a filter window over the input and performing a matrix multiplication and storing the result in a feature map. This operation is known as a convolution. \n",
    "\n",
    "\n",
    "The `filter` parameter specifies the number of nodes in each layer. Each layer will increase in size from 16, 32, 64 to 128, while the `kernel_size` parameter specifies the size of the kernel window which in this case is 2 resulting in a 2x2 filter matrix. \n",
    "\n",
    "The first layer will receive the input shape of (40, 174, 1) where 40 is the number of MFCC's 174 is the number of frames taking padding into account and the 1 signifying that the audio is mono. \n",
    "\n",
    "The activation function we will be using for our convolutional layers is `ReLU` which is the same as our previous model. We will use a smaller `Dropout` value of 20% on our convolutional layers. \n",
    "\n",
    "Each convolutional layer has an associated pooling layer of `MaxPooling2D` type with the final convolutional layer having a `GlobalAveragePooling2D` type. The pooling layer is do reduce the dimensionality of the model (by reducing the parameters and subsquent computation requirements) which serves to shorten the training time and reduce overfitting. The Max Pooling type takes the maximum size for each window and the Global Average Pooling type takes the average which is suitable for feeding into our `dense` output layer.  \n",
    "\n",
    "Our output layer will have 10 nodes (num_labels) which matches the number of possible classifications. The activation is for our output layer is `softmax`. Softmax makes the output sum up to 1 so the output can be interpreted as probabilities. The model will then make its prediction based on which option has the highest probability."
   ]
  },
  {
   "cell_type": "code",
   "execution_count": 5,
   "metadata": {},
   "outputs": [
    {
     "name": "stdout",
     "output_type": "stream",
     "text": [
      "WARNING:tensorflow:From /Users/daniel.siwiec/anaconda3/envs/iot_hackathon/lib/python3.6/site-packages/keras/backend/tensorflow_backend.py:74: The name tf.get_default_graph is deprecated. Please use tf.compat.v1.get_default_graph instead.\n",
      "\n",
      "WARNING:tensorflow:From /Users/daniel.siwiec/anaconda3/envs/iot_hackathon/lib/python3.6/site-packages/keras/backend/tensorflow_backend.py:517: The name tf.placeholder is deprecated. Please use tf.compat.v1.placeholder instead.\n",
      "\n",
      "WARNING:tensorflow:From /Users/daniel.siwiec/anaconda3/envs/iot_hackathon/lib/python3.6/site-packages/keras/backend/tensorflow_backend.py:4138: The name tf.random_uniform is deprecated. Please use tf.random.uniform instead.\n",
      "\n",
      "WARNING:tensorflow:From /Users/daniel.siwiec/anaconda3/envs/iot_hackathon/lib/python3.6/site-packages/keras/backend/tensorflow_backend.py:3976: The name tf.nn.max_pool is deprecated. Please use tf.nn.max_pool2d instead.\n",
      "\n",
      "WARNING:tensorflow:From /Users/daniel.siwiec/anaconda3/envs/iot_hackathon/lib/python3.6/site-packages/keras/backend/tensorflow_backend.py:133: The name tf.placeholder_with_default is deprecated. Please use tf.compat.v1.placeholder_with_default instead.\n",
      "\n",
      "WARNING:tensorflow:From /Users/daniel.siwiec/anaconda3/envs/iot_hackathon/lib/python3.6/site-packages/keras/backend/tensorflow_backend.py:3445: calling dropout (from tensorflow.python.ops.nn_ops) with keep_prob is deprecated and will be removed in a future version.\n",
      "Instructions for updating:\n",
      "Please use `rate` instead of `keep_prob`. Rate should be set to `rate = 1 - keep_prob`.\n"
     ]
    }
   ],
   "source": [
    "import numpy as np\n",
    "from keras.models import Sequential\n",
    "from keras.layers import Dense, Dropout, Activation, Flatten\n",
    "from keras.layers import Convolution2D, Conv2D, MaxPooling2D, GlobalAveragePooling2D\n",
    "from keras.optimizers import Adam\n",
    "from keras.utils import np_utils\n",
    "from sklearn import metrics \n",
    "\n",
    "num_rows = 40\n",
    "num_columns = 174\n",
    "num_channels = 1\n",
    "\n",
    "x_train = x_train.reshape(x_train.shape[0], num_rows, num_columns, num_channels)\n",
    "x_test = x_test.reshape(x_test.shape[0], num_rows, num_columns, num_channels)\n",
    "\n",
    "num_labels = yy.shape[1]\n",
    "filter_size = 2\n",
    "\n",
    "# Construct model \n",
    "model = Sequential()\n",
    "model.add(Conv2D(filters=16, kernel_size=2, input_shape=(num_rows, num_columns, num_channels), activation='relu'))\n",
    "model.add(MaxPooling2D(pool_size=2))\n",
    "model.add(Dropout(0.2))\n",
    "\n",
    "model.add(Conv2D(filters=32, kernel_size=2, activation='relu'))\n",
    "model.add(MaxPooling2D(pool_size=2))\n",
    "model.add(Dropout(0.2))\n",
    "\n",
    "model.add(Conv2D(filters=64, kernel_size=2, activation='relu'))\n",
    "model.add(MaxPooling2D(pool_size=2))\n",
    "model.add(Dropout(0.2))\n",
    "\n",
    "model.add(Conv2D(filters=128, kernel_size=2, activation='relu'))\n",
    "model.add(MaxPooling2D(pool_size=2))\n",
    "model.add(Dropout(0.2))\n",
    "model.add(GlobalAveragePooling2D())\n",
    "\n",
    "model.add(Dense(num_labels, activation='softmax')) "
   ]
  },
  {
   "cell_type": "markdown",
   "metadata": {},
   "source": [
    "### Compiling the model \n",
    "\n",
    "For compiling our model, we will use the same three parameters as the previous model: "
   ]
  },
  {
   "cell_type": "code",
   "execution_count": 6,
   "metadata": {},
   "outputs": [
    {
     "name": "stdout",
     "output_type": "stream",
     "text": [
      "WARNING:tensorflow:From /Users/daniel.siwiec/anaconda3/envs/iot_hackathon/lib/python3.6/site-packages/keras/optimizers.py:790: The name tf.train.Optimizer is deprecated. Please use tf.compat.v1.train.Optimizer instead.\n",
      "\n",
      "WARNING:tensorflow:From /Users/daniel.siwiec/anaconda3/envs/iot_hackathon/lib/python3.6/site-packages/keras/backend/tensorflow_backend.py:3295: The name tf.log is deprecated. Please use tf.math.log instead.\n",
      "\n"
     ]
    }
   ],
   "source": [
    "# Compile the model\n",
    "model.compile(loss='categorical_crossentropy', metrics=['accuracy'], optimizer='adam') "
   ]
  },
  {
   "cell_type": "code",
   "execution_count": 7,
   "metadata": {},
   "outputs": [
    {
     "name": "stdout",
     "output_type": "stream",
     "text": [
      "_________________________________________________________________\n",
      "Layer (type)                 Output Shape              Param #   \n",
      "=================================================================\n",
      "conv2d_1 (Conv2D)            (None, 39, 173, 16)       80        \n",
      "_________________________________________________________________\n",
      "max_pooling2d_1 (MaxPooling2 (None, 19, 86, 16)        0         \n",
      "_________________________________________________________________\n",
      "dropout_1 (Dropout)          (None, 19, 86, 16)        0         \n",
      "_________________________________________________________________\n",
      "conv2d_2 (Conv2D)            (None, 18, 85, 32)        2080      \n",
      "_________________________________________________________________\n",
      "max_pooling2d_2 (MaxPooling2 (None, 9, 42, 32)         0         \n",
      "_________________________________________________________________\n",
      "dropout_2 (Dropout)          (None, 9, 42, 32)         0         \n",
      "_________________________________________________________________\n",
      "conv2d_3 (Conv2D)            (None, 8, 41, 64)         8256      \n",
      "_________________________________________________________________\n",
      "max_pooling2d_3 (MaxPooling2 (None, 4, 20, 64)         0         \n",
      "_________________________________________________________________\n",
      "dropout_3 (Dropout)          (None, 4, 20, 64)         0         \n",
      "_________________________________________________________________\n",
      "conv2d_4 (Conv2D)            (None, 3, 19, 128)        32896     \n",
      "_________________________________________________________________\n",
      "max_pooling2d_4 (MaxPooling2 (None, 1, 9, 128)         0         \n",
      "_________________________________________________________________\n",
      "dropout_4 (Dropout)          (None, 1, 9, 128)         0         \n",
      "_________________________________________________________________\n",
      "global_average_pooling2d_1 ( (None, 128)               0         \n",
      "_________________________________________________________________\n",
      "dense_1 (Dense)              (None, 10)                1290      \n",
      "=================================================================\n",
      "Total params: 44,602\n",
      "Trainable params: 44,602\n",
      "Non-trainable params: 0\n",
      "_________________________________________________________________\n",
      "1747/1747 [==============================] - 1s 544us/step\n",
      "Pre-training accuracy: 10.8185%\n"
     ]
    }
   ],
   "source": [
    "# Display model architecture summary \n",
    "model.summary()\n",
    "\n",
    "# Calculate pre-training accuracy \n",
    "score = model.evaluate(x_test, y_test, verbose=1)\n",
    "accuracy = 100*score[1]\n",
    "\n",
    "print(\"Pre-training accuracy: %.4f%%\" % accuracy)"
   ]
  },
  {
   "cell_type": "markdown",
   "metadata": {},
   "source": [
    "### Training \n",
    "\n",
    "Here we will train the model. As training a CNN can take a sigificant amount of time, we will start with a low number of epochs and a low batch size. If we can see from the output that the model is converging, we will increase both numbers.  "
   ]
  },
  {
   "cell_type": "code",
   "execution_count": 8,
   "metadata": {},
   "outputs": [
    {
     "name": "stdout",
     "output_type": "stream",
     "text": [
      "WARNING:tensorflow:From /Users/daniel.siwiec/anaconda3/envs/iot_hackathon/lib/python3.6/site-packages/tensorflow/python/ops/math_grad.py:1250: add_dispatch_support.<locals>.wrapper (from tensorflow.python.ops.array_ops) is deprecated and will be removed in a future version.\n",
      "Instructions for updating:\n",
      "Use tf.where in 2.0, which has the same broadcast rule as np.where\n",
      "Train on 6985 samples, validate on 1747 samples\n",
      "Epoch 1/72\n",
      "6985/6985 [==============================] - 17s 2ms/step - loss: 3.5790 - acc: 0.1850 - val_loss: 2.0534 - val_acc: 0.2685\n",
      "\n",
      "Epoch 00001: val_loss improved from inf to 2.05335, saving model to saved_models/weights.best.basic_cnn.hdf5\n",
      "Epoch 2/72\n",
      "6985/6985 [==============================] - 16s 2ms/step - loss: 1.8626 - acc: 0.3336 - val_loss: 1.9029 - val_acc: 0.3623\n",
      "\n",
      "Epoch 00002: val_loss improved from 2.05335 to 1.90292, saving model to saved_models/weights.best.basic_cnn.hdf5\n",
      "Epoch 3/72\n",
      "6985/6985 [==============================] - 16s 2ms/step - loss: 1.6210 - acc: 0.4196 - val_loss: 1.6651 - val_acc: 0.4465\n",
      "\n",
      "Epoch 00003: val_loss improved from 1.90292 to 1.66505, saving model to saved_models/weights.best.basic_cnn.hdf5\n",
      "Epoch 4/72\n",
      "6985/6985 [==============================] - 16s 2ms/step - loss: 1.4639 - acc: 0.4822 - val_loss: 1.5203 - val_acc: 0.4946\n",
      "\n",
      "Epoch 00004: val_loss improved from 1.66505 to 1.52032, saving model to saved_models/weights.best.basic_cnn.hdf5\n",
      "Epoch 5/72\n",
      "6985/6985 [==============================] - 16s 2ms/step - loss: 1.3332 - acc: 0.5297 - val_loss: 1.4198 - val_acc: 0.5163\n",
      "\n",
      "Epoch 00005: val_loss improved from 1.52032 to 1.41978, saving model to saved_models/weights.best.basic_cnn.hdf5\n",
      "Epoch 6/72\n",
      "6985/6985 [==============================] - 16s 2ms/step - loss: 1.2484 - acc: 0.5601 - val_loss: 1.3447 - val_acc: 0.5529\n",
      "\n",
      "Epoch 00006: val_loss improved from 1.41978 to 1.34471, saving model to saved_models/weights.best.basic_cnn.hdf5\n",
      "Epoch 7/72\n",
      "6985/6985 [==============================] - 16s 2ms/step - loss: 1.1992 - acc: 0.5844 - val_loss: 1.2931 - val_acc: 0.5547\n",
      "\n",
      "Epoch 00007: val_loss improved from 1.34471 to 1.29310, saving model to saved_models/weights.best.basic_cnn.hdf5\n",
      "Epoch 8/72\n",
      "6985/6985 [==============================] - 16s 2ms/step - loss: 1.1156 - acc: 0.6169 - val_loss: 1.2214 - val_acc: 0.5987\n",
      "\n",
      "Epoch 00008: val_loss improved from 1.29310 to 1.22141, saving model to saved_models/weights.best.basic_cnn.hdf5\n",
      "Epoch 9/72\n",
      "6985/6985 [==============================] - 16s 2ms/step - loss: 1.0757 - acc: 0.6255 - val_loss: 1.1731 - val_acc: 0.6108\n",
      "\n",
      "Epoch 00009: val_loss improved from 1.22141 to 1.17312, saving model to saved_models/weights.best.basic_cnn.hdf5\n",
      "Epoch 10/72\n",
      "6985/6985 [==============================] - 16s 2ms/step - loss: 1.0286 - acc: 0.6409 - val_loss: 1.1457 - val_acc: 0.6102\n",
      "\n",
      "Epoch 00010: val_loss improved from 1.17312 to 1.14572, saving model to saved_models/weights.best.basic_cnn.hdf5\n",
      "Epoch 11/72\n",
      "6985/6985 [==============================] - 16s 2ms/step - loss: 0.9753 - acc: 0.6634 - val_loss: 1.0575 - val_acc: 0.6422\n",
      "\n",
      "Epoch 00011: val_loss improved from 1.14572 to 1.05747, saving model to saved_models/weights.best.basic_cnn.hdf5\n",
      "Epoch 12/72\n",
      "6985/6985 [==============================] - 16s 2ms/step - loss: 0.9252 - acc: 0.6806 - val_loss: 0.9819 - val_acc: 0.6703\n",
      "\n",
      "Epoch 00012: val_loss improved from 1.05747 to 0.98189, saving model to saved_models/weights.best.basic_cnn.hdf5\n",
      "Epoch 13/72\n",
      "6985/6985 [==============================] - 16s 2ms/step - loss: 0.8922 - acc: 0.6902 - val_loss: 0.9537 - val_acc: 0.6835\n",
      "\n",
      "Epoch 00013: val_loss improved from 0.98189 to 0.95367, saving model to saved_models/weights.best.basic_cnn.hdf5\n",
      "Epoch 14/72\n",
      "6985/6985 [==============================] - 16s 2ms/step - loss: 0.8640 - acc: 0.7074 - val_loss: 0.9170 - val_acc: 0.6966\n",
      "\n",
      "Epoch 00014: val_loss improved from 0.95367 to 0.91701, saving model to saved_models/weights.best.basic_cnn.hdf5\n",
      "Epoch 15/72\n",
      "6985/6985 [==============================] - 16s 2ms/step - loss: 0.8347 - acc: 0.7195 - val_loss: 0.8830 - val_acc: 0.7058\n",
      "\n",
      "Epoch 00015: val_loss improved from 0.91701 to 0.88305, saving model to saved_models/weights.best.basic_cnn.hdf5\n",
      "Epoch 16/72\n",
      "6985/6985 [==============================] - 16s 2ms/step - loss: 0.8077 - acc: 0.7256 - val_loss: 0.8918 - val_acc: 0.7023\n",
      "\n",
      "Epoch 00016: val_loss did not improve from 0.88305\n",
      "Epoch 17/72\n",
      "6985/6985 [==============================] - 16s 2ms/step - loss: 0.7868 - acc: 0.7293 - val_loss: 0.8388 - val_acc: 0.7252\n",
      "\n",
      "Epoch 00017: val_loss improved from 0.88305 to 0.83881, saving model to saved_models/weights.best.basic_cnn.hdf5\n",
      "Epoch 18/72\n",
      "6985/6985 [==============================] - 16s 2ms/step - loss: 0.7522 - acc: 0.7500 - val_loss: 0.8215 - val_acc: 0.7264\n",
      "\n",
      "Epoch 00018: val_loss improved from 0.83881 to 0.82151, saving model to saved_models/weights.best.basic_cnn.hdf5\n",
      "Epoch 19/72\n",
      "6985/6985 [==============================] - 16s 2ms/step - loss: 0.7182 - acc: 0.7595 - val_loss: 0.8247 - val_acc: 0.7287\n",
      "\n",
      "Epoch 00019: val_loss did not improve from 0.82151\n",
      "Epoch 20/72\n",
      "6985/6985 [==============================] - 16s 2ms/step - loss: 0.7302 - acc: 0.7496 - val_loss: 0.7917 - val_acc: 0.7441\n",
      "\n",
      "Epoch 00020: val_loss improved from 0.82151 to 0.79166, saving model to saved_models/weights.best.basic_cnn.hdf5\n",
      "Epoch 21/72\n",
      "6985/6985 [==============================] - 16s 2ms/step - loss: 0.6787 - acc: 0.7655 - val_loss: 0.7849 - val_acc: 0.7464\n",
      "\n",
      "Epoch 00021: val_loss improved from 0.79166 to 0.78490, saving model to saved_models/weights.best.basic_cnn.hdf5\n",
      "Epoch 22/72\n",
      "6985/6985 [==============================] - 16s 2ms/step - loss: 0.6608 - acc: 0.7780 - val_loss: 0.7430 - val_acc: 0.7624\n",
      "\n",
      "Epoch 00022: val_loss improved from 0.78490 to 0.74303, saving model to saved_models/weights.best.basic_cnn.hdf5\n",
      "Epoch 23/72\n",
      "6985/6985 [==============================] - 16s 2ms/step - loss: 0.6408 - acc: 0.7828 - val_loss: 0.7115 - val_acc: 0.7653\n",
      "\n",
      "Epoch 00023: val_loss improved from 0.74303 to 0.71149, saving model to saved_models/weights.best.basic_cnn.hdf5\n",
      "Epoch 24/72\n",
      "6985/6985 [==============================] - 16s 2ms/step - loss: 0.6257 - acc: 0.7873 - val_loss: 0.6745 - val_acc: 0.7808\n",
      "\n",
      "Epoch 00024: val_loss improved from 0.71149 to 0.67447, saving model to saved_models/weights.best.basic_cnn.hdf5\n",
      "Epoch 25/72\n",
      "6985/6985 [==============================] - 16s 2ms/step - loss: 0.6082 - acc: 0.7907 - val_loss: 0.6583 - val_acc: 0.7836\n",
      "\n",
      "Epoch 00025: val_loss improved from 0.67447 to 0.65830, saving model to saved_models/weights.best.basic_cnn.hdf5\n",
      "Epoch 26/72\n",
      "6985/6985 [==============================] - 16s 2ms/step - loss: 0.6040 - acc: 0.7948 - val_loss: 0.6379 - val_acc: 0.7911\n",
      "\n",
      "Epoch 00026: val_loss improved from 0.65830 to 0.63793, saving model to saved_models/weights.best.basic_cnn.hdf5\n",
      "Epoch 27/72\n",
      "6985/6985 [==============================] - 18s 3ms/step - loss: 0.5843 - acc: 0.8024 - val_loss: 0.6541 - val_acc: 0.7859\n",
      "\n",
      "Epoch 00027: val_loss did not improve from 0.63793\n",
      "Epoch 28/72\n",
      "6985/6985 [==============================] - 18s 3ms/step - loss: 0.5603 - acc: 0.8092 - val_loss: 0.6559 - val_acc: 0.7825\n",
      "\n",
      "Epoch 00028: val_loss did not improve from 0.63793\n",
      "Epoch 29/72\n",
      "6985/6985 [==============================] - 16s 2ms/step - loss: 0.5488 - acc: 0.8150 - val_loss: 0.5889 - val_acc: 0.8100\n",
      "\n",
      "Epoch 00029: val_loss improved from 0.63793 to 0.58887, saving model to saved_models/weights.best.basic_cnn.hdf5\n",
      "Epoch 30/72\n",
      "6985/6985 [==============================] - 16s 2ms/step - loss: 0.5573 - acc: 0.8109 - val_loss: 0.6001 - val_acc: 0.8019\n",
      "\n",
      "Epoch 00030: val_loss did not improve from 0.58887\n",
      "Epoch 31/72\n",
      "6985/6985 [==============================] - 16s 2ms/step - loss: 0.5165 - acc: 0.8255 - val_loss: 0.5545 - val_acc: 0.8145\n",
      "\n",
      "Epoch 00031: val_loss improved from 0.58887 to 0.55446, saving model to saved_models/weights.best.basic_cnn.hdf5\n",
      "Epoch 32/72\n",
      "6985/6985 [==============================] - 16s 2ms/step - loss: 0.5152 - acc: 0.8265 - val_loss: 0.6102 - val_acc: 0.7979\n",
      "\n",
      "Epoch 00032: val_loss did not improve from 0.55446\n",
      "Epoch 33/72\n",
      "6985/6985 [==============================] - 16s 2ms/step - loss: 0.4905 - acc: 0.8335 - val_loss: 0.5647 - val_acc: 0.8191\n",
      "\n",
      "Epoch 00033: val_loss did not improve from 0.55446\n",
      "Epoch 34/72\n"
     ]
    },
    {
     "name": "stdout",
     "output_type": "stream",
     "text": [
      "6985/6985 [==============================] - 16s 2ms/step - loss: 0.4928 - acc: 0.8385 - val_loss: 0.5999 - val_acc: 0.7997\n",
      "\n",
      "Epoch 00034: val_loss did not improve from 0.55446\n",
      "Epoch 35/72\n",
      "6985/6985 [==============================] - 16s 2ms/step - loss: 0.4729 - acc: 0.8427 - val_loss: 0.5890 - val_acc: 0.8042\n",
      "\n",
      "Epoch 00035: val_loss did not improve from 0.55446\n",
      "Epoch 36/72\n",
      "6985/6985 [==============================] - 17s 2ms/step - loss: 0.4752 - acc: 0.8391 - val_loss: 0.5123 - val_acc: 0.8334\n",
      "\n",
      "Epoch 00036: val_loss improved from 0.55446 to 0.51228, saving model to saved_models/weights.best.basic_cnn.hdf5\n",
      "Epoch 37/72\n",
      "6985/6985 [==============================] - 87s 12ms/step - loss: 0.4532 - acc: 0.8447 - val_loss: 0.4931 - val_acc: 0.8380\n",
      "\n",
      "Epoch 00037: val_loss improved from 0.51228 to 0.49313, saving model to saved_models/weights.best.basic_cnn.hdf5\n",
      "Epoch 38/72\n",
      "6985/6985 [==============================] - 16s 2ms/step - loss: 0.4492 - acc: 0.8520 - val_loss: 0.5440 - val_acc: 0.8185\n",
      "\n",
      "Epoch 00038: val_loss did not improve from 0.49313\n",
      "Epoch 39/72\n",
      "6985/6985 [==============================] - 17s 2ms/step - loss: 0.4467 - acc: 0.8507 - val_loss: 0.5030 - val_acc: 0.8323\n",
      "\n",
      "Epoch 00039: val_loss did not improve from 0.49313\n",
      "Epoch 40/72\n",
      "6985/6985 [==============================] - 17s 2ms/step - loss: 0.4143 - acc: 0.8583 - val_loss: 0.4550 - val_acc: 0.8540\n",
      "\n",
      "Epoch 00040: val_loss improved from 0.49313 to 0.45501, saving model to saved_models/weights.best.basic_cnn.hdf5\n",
      "Epoch 41/72\n",
      "6985/6985 [==============================] - 17s 2ms/step - loss: 0.4036 - acc: 0.8611 - val_loss: 0.4559 - val_acc: 0.8403\n",
      "\n",
      "Epoch 00041: val_loss did not improve from 0.45501\n",
      "Epoch 42/72\n",
      "6985/6985 [==============================] - 17s 2ms/step - loss: 0.3994 - acc: 0.8649 - val_loss: 0.5188 - val_acc: 0.8283\n",
      "\n",
      "Epoch 00042: val_loss did not improve from 0.45501\n",
      "Epoch 43/72\n",
      "6985/6985 [==============================] - 17s 2ms/step - loss: 0.3956 - acc: 0.8614 - val_loss: 0.4813 - val_acc: 0.8454\n",
      "\n",
      "Epoch 00043: val_loss did not improve from 0.45501\n",
      "Epoch 44/72\n",
      "6985/6985 [==============================] - 16s 2ms/step - loss: 0.3989 - acc: 0.8607 - val_loss: 0.4500 - val_acc: 0.8477\n",
      "\n",
      "Epoch 00044: val_loss improved from 0.45501 to 0.45002, saving model to saved_models/weights.best.basic_cnn.hdf5\n",
      "Epoch 45/72\n",
      "6985/6985 [==============================] - 16s 2ms/step - loss: 0.3949 - acc: 0.8636 - val_loss: 0.4549 - val_acc: 0.8523\n",
      "\n",
      "Epoch 00045: val_loss did not improve from 0.45002\n",
      "Epoch 46/72\n",
      "6985/6985 [==============================] - 16s 2ms/step - loss: 0.3705 - acc: 0.8697 - val_loss: 0.4334 - val_acc: 0.8558\n",
      "\n",
      "Epoch 00046: val_loss improved from 0.45002 to 0.43335, saving model to saved_models/weights.best.basic_cnn.hdf5\n",
      "Epoch 47/72\n",
      "6985/6985 [==============================] - 16s 2ms/step - loss: 0.3822 - acc: 0.8686 - val_loss: 0.4320 - val_acc: 0.8609\n",
      "\n",
      "Epoch 00047: val_loss improved from 0.43335 to 0.43203, saving model to saved_models/weights.best.basic_cnn.hdf5\n",
      "Epoch 48/72\n",
      "6985/6985 [==============================] - 16s 2ms/step - loss: 0.3642 - acc: 0.8736 - val_loss: 0.4120 - val_acc: 0.8609\n",
      "\n",
      "Epoch 00048: val_loss improved from 0.43203 to 0.41199, saving model to saved_models/weights.best.basic_cnn.hdf5\n",
      "Epoch 49/72\n",
      "6985/6985 [==============================] - 17s 2ms/step - loss: 0.3561 - acc: 0.8799 - val_loss: 0.4301 - val_acc: 0.8517\n",
      "\n",
      "Epoch 00049: val_loss did not improve from 0.41199\n",
      "Epoch 50/72\n",
      "6985/6985 [==============================] - 16s 2ms/step - loss: 0.3368 - acc: 0.8840 - val_loss: 0.4017 - val_acc: 0.8661\n",
      "\n",
      "Epoch 00050: val_loss improved from 0.41199 to 0.40173, saving model to saved_models/weights.best.basic_cnn.hdf5\n",
      "Epoch 51/72\n",
      "6985/6985 [==============================] - 16s 2ms/step - loss: 0.3348 - acc: 0.8856 - val_loss: 0.4196 - val_acc: 0.8575\n",
      "\n",
      "Epoch 00051: val_loss did not improve from 0.40173\n",
      "Epoch 52/72\n",
      "6985/6985 [==============================] - 16s 2ms/step - loss: 0.3303 - acc: 0.8856 - val_loss: 0.4007 - val_acc: 0.8598\n",
      "\n",
      "Epoch 00052: val_loss improved from 0.40173 to 0.40074, saving model to saved_models/weights.best.basic_cnn.hdf5\n",
      "Epoch 53/72\n",
      "6985/6985 [==============================] - 16s 2ms/step - loss: 0.3264 - acc: 0.8876 - val_loss: 0.3752 - val_acc: 0.8678\n",
      "\n",
      "Epoch 00053: val_loss improved from 0.40074 to 0.37518, saving model to saved_models/weights.best.basic_cnn.hdf5\n",
      "Epoch 54/72\n",
      "6985/6985 [==============================] - 17s 2ms/step - loss: 0.3210 - acc: 0.8899 - val_loss: 0.4098 - val_acc: 0.8603\n",
      "\n",
      "Epoch 00054: val_loss did not improve from 0.37518\n",
      "Epoch 55/72\n",
      "6985/6985 [==============================] - 17s 2ms/step - loss: 0.3121 - acc: 0.8919 - val_loss: 0.4083 - val_acc: 0.8580\n",
      "\n",
      "Epoch 00055: val_loss did not improve from 0.37518\n",
      "Epoch 56/72\n",
      "6985/6985 [==============================] - 16s 2ms/step - loss: 0.3038 - acc: 0.8943 - val_loss: 0.3392 - val_acc: 0.8821\n",
      "\n",
      "Epoch 00056: val_loss improved from 0.37518 to 0.33920, saving model to saved_models/weights.best.basic_cnn.hdf5\n",
      "Epoch 57/72\n",
      "6985/6985 [==============================] - 16s 2ms/step - loss: 0.3011 - acc: 0.8941 - val_loss: 0.3844 - val_acc: 0.8735\n",
      "\n",
      "Epoch 00057: val_loss did not improve from 0.33920\n",
      "Epoch 58/72\n",
      "6985/6985 [==============================] - 16s 2ms/step - loss: 0.3089 - acc: 0.8943 - val_loss: 0.4490 - val_acc: 0.8552\n",
      "\n",
      "Epoch 00058: val_loss did not improve from 0.33920\n",
      "Epoch 59/72\n",
      "6985/6985 [==============================] - 16s 2ms/step - loss: 0.3027 - acc: 0.8982 - val_loss: 0.4247 - val_acc: 0.8495\n",
      "\n",
      "Epoch 00059: val_loss did not improve from 0.33920\n",
      "Epoch 60/72\n",
      "6985/6985 [==============================] - 16s 2ms/step - loss: 0.2822 - acc: 0.9024 - val_loss: 0.3924 - val_acc: 0.8615\n",
      "\n",
      "Epoch 00060: val_loss did not improve from 0.33920\n",
      "Epoch 61/72\n",
      "6985/6985 [==============================] - 16s 2ms/step - loss: 0.2872 - acc: 0.9051 - val_loss: 0.3784 - val_acc: 0.8661\n",
      "\n",
      "Epoch 00061: val_loss did not improve from 0.33920\n",
      "Epoch 62/72\n",
      "6985/6985 [==============================] - 16s 2ms/step - loss: 0.2873 - acc: 0.9032 - val_loss: 0.3417 - val_acc: 0.8815\n",
      "\n",
      "Epoch 00062: val_loss did not improve from 0.33920\n",
      "Epoch 63/72\n",
      "6985/6985 [==============================] - 17s 2ms/step - loss: 0.2701 - acc: 0.9051 - val_loss: 0.3328 - val_acc: 0.8884\n",
      "\n",
      "Epoch 00063: val_loss improved from 0.33920 to 0.33281, saving model to saved_models/weights.best.basic_cnn.hdf5\n",
      "Epoch 64/72\n",
      "6985/6985 [==============================] - 16s 2ms/step - loss: 0.2734 - acc: 0.9042 - val_loss: 0.3658 - val_acc: 0.8758\n",
      "\n",
      "Epoch 00064: val_loss did not improve from 0.33281\n",
      "Epoch 65/72\n",
      "6985/6985 [==============================] - 16s 2ms/step - loss: 0.2676 - acc: 0.9081 - val_loss: 0.3641 - val_acc: 0.8775\n",
      "\n",
      "Epoch 00065: val_loss did not improve from 0.33281\n",
      "Epoch 66/72\n",
      "6985/6985 [==============================] - 16s 2ms/step - loss: 0.2649 - acc: 0.9099 - val_loss: 0.3625 - val_acc: 0.8735\n",
      "\n",
      "Epoch 00066: val_loss did not improve from 0.33281\n",
      "Epoch 67/72\n",
      "6985/6985 [==============================] - 16s 2ms/step - loss: 0.2592 - acc: 0.9120 - val_loss: 0.3697 - val_acc: 0.8769\n",
      "\n",
      "Epoch 00067: val_loss did not improve from 0.33281\n",
      "Epoch 68/72\n",
      "6985/6985 [==============================] - 16s 2ms/step - loss: 0.2559 - acc: 0.9137 - val_loss: 0.3266 - val_acc: 0.8907\n",
      "\n",
      "Epoch 00068: val_loss improved from 0.33281 to 0.32665, saving model to saved_models/weights.best.basic_cnn.hdf5\n",
      "Epoch 69/72\n",
      "6985/6985 [==============================] - 16s 2ms/step - loss: 0.2382 - acc: 0.9151 - val_loss: 0.3203 - val_acc: 0.8918\n",
      "\n",
      "Epoch 00069: val_loss improved from 0.32665 to 0.32033, saving model to saved_models/weights.best.basic_cnn.hdf5\n",
      "Epoch 70/72\n",
      "6985/6985 [==============================] - 16s 2ms/step - loss: 0.2373 - acc: 0.9157 - val_loss: 0.3297 - val_acc: 0.8952\n",
      "\n",
      "Epoch 00070: val_loss did not improve from 0.32033\n",
      "Epoch 71/72\n",
      "6985/6985 [==============================] - 16s 2ms/step - loss: 0.2349 - acc: 0.9194 - val_loss: 0.3218 - val_acc: 0.8952\n",
      "\n",
      "Epoch 00071: val_loss did not improve from 0.32033\n",
      "Epoch 72/72\n",
      "6985/6985 [==============================] - 16s 2ms/step - loss: 0.2513 - acc: 0.9130 - val_loss: 0.3500 - val_acc: 0.8855\n",
      "\n",
      "Epoch 00072: val_loss did not improve from 0.32033\n",
      "Training completed in time:  0:20:42.219651\n"
     ]
    }
   ],
   "source": [
    "from keras.callbacks import ModelCheckpoint \n",
    "from datetime import datetime \n",
    "\n",
    "#num_epochs = 12\n",
    "#num_batch_size = 128\n",
    "\n",
    "num_epochs = 72\n",
    "num_batch_size = 256\n",
    "\n",
    "checkpointer = ModelCheckpoint(filepath='saved_models/weights.best.basic_cnn.hdf5', \n",
    "                               verbose=1, save_best_only=True)\n",
    "start = datetime.now()\n",
    "\n",
    "model.fit(x_train, y_train, batch_size=num_batch_size, epochs=num_epochs, validation_data=(x_test, y_test), callbacks=[checkpointer], verbose=1)\n",
    "\n",
    "\n",
    "duration = datetime.now() - start\n",
    "print(\"Training completed in time: \", duration)"
   ]
  },
  {
   "cell_type": "markdown",
   "metadata": {},
   "source": [
    "### Test the model \n",
    "\n",
    "Here we will review the accuracy of the model on both the training and test data sets. "
   ]
  },
  {
   "cell_type": "code",
   "execution_count": 9,
   "metadata": {},
   "outputs": [
    {
     "name": "stdout",
     "output_type": "stream",
     "text": [
      "Training Accuracy:  0.9404438081603436\n",
      "Testing Accuracy:  0.8855180307395403\n"
     ]
    }
   ],
   "source": [
    "# Evaluating the model on the training and testing set\n",
    "score = model.evaluate(x_train, y_train, verbose=0)\n",
    "print(\"Training Accuracy: \", score[1])\n",
    "\n",
    "score = model.evaluate(x_test, y_test, verbose=0)\n",
    "print(\"Testing Accuracy: \", score[1])"
   ]
  },
  {
   "cell_type": "markdown",
   "metadata": {},
   "source": [
    "The Training and Testing accuracy scores are both high and an increase on our initial model. Training accuracy has increased by ~6% and Testing accuracy has increased by ~4%. \n",
    "\n",
    "There is a marginal increase in the difference between the Training and Test scores (~6% compared to ~5% previously) though the difference remains low so the model has not suffered from overfitting. "
   ]
  },
  {
   "cell_type": "markdown",
   "metadata": {},
   "source": [
    "### Predictions  \n",
    "\n",
    "Here we will modify our previous method for testing the models predictions on a specified audio .wav file. "
   ]
  },
  {
   "cell_type": "code",
   "execution_count": 10,
   "metadata": {},
   "outputs": [],
   "source": [
    "def print_prediction(file_name):\n",
    "    prediction_feature = extract_features(file_name) \n",
    "    prediction_feature = prediction_feature.reshape(1, num_rows, num_columns, num_channels)\n",
    "\n",
    "    predicted_vector = model.predict_classes(prediction_feature)\n",
    "    predicted_class = le.inverse_transform(predicted_vector) \n",
    "    print(\"The predicted class is:\", predicted_class[0], '\\n') \n",
    "\n",
    "    predicted_proba_vector = model.predict_proba(prediction_feature) \n",
    "    predicted_proba = predicted_proba_vector[0]\n",
    "    for i in range(len(predicted_proba)): \n",
    "        category = le.inverse_transform(np.array([i]))\n",
    "        print(category[0], \"\\t\\t : \", format(predicted_proba[i], '.32f') )"
   ]
  },
  {
   "cell_type": "markdown",
   "metadata": {},
   "source": [
    "### Validation \n",
    "\n",
    "#### Test with sample data \n",
    "\n",
    "As before we will verify the predictions using a subsection of the sample audio files we explored in the first notebook. We expect the bulk of these to be classified correctly. "
   ]
  },
  {
   "cell_type": "code",
   "execution_count": 11,
   "metadata": {},
   "outputs": [
    {
     "name": "stdout",
     "output_type": "stream",
     "text": [
      "The predicted class is: air_conditioner \n",
      "\n",
      "air_conditioner \t\t :  0.99540388584136962890625000000000\n",
      "car_horn \t\t :  0.00000021822681617322814418002963\n",
      "children_playing \t\t :  0.00005133304875926114618778228760\n",
      "dog_bark \t\t :  0.00000729690236767055466771125793\n",
      "drilling \t\t :  0.00021975589334033429622650146484\n",
      "engine_idling \t\t :  0.00005994965977151878178119659424\n",
      "gun_shot \t\t :  0.00000166327004080812912434339523\n",
      "jackhammer \t\t :  0.00421318178996443748474121093750\n",
      "siren \t\t :  0.00000097702354651119094341993332\n",
      "street_music \t\t :  0.00004181402618996798992156982422\n"
     ]
    }
   ],
   "source": [
    "# Class: Air Conditioner\n",
    "\n",
    "filename = '../UrbanSound8K/audio/fold5/100852-0-0-0.wav' \n",
    "print_prediction(filename) "
   ]
  },
  {
   "cell_type": "code",
   "execution_count": 12,
   "metadata": {
    "scrolled": true
   },
   "outputs": [
    {
     "name": "stdout",
     "output_type": "stream",
     "text": [
      "The predicted class is: drilling \n",
      "\n",
      "air_conditioner \t\t :  0.00003185506284353323280811309814\n",
      "car_horn \t\t :  0.00023022975074127316474914550781\n",
      "children_playing \t\t :  0.00000072985699262062553316354752\n",
      "dog_bark \t\t :  0.00000023159915940595965366810560\n",
      "drilling \t\t :  0.99956482648849487304687500000000\n",
      "engine_idling \t\t :  0.00000000507442399211299743910786\n",
      "gun_shot \t\t :  0.00000001821260120493661815999076\n",
      "jackhammer \t\t :  0.00003626054240157827734947204590\n",
      "siren \t\t :  0.00000005309399497832600900437683\n",
      "street_music \t\t :  0.00013576135097537189722061157227\n"
     ]
    }
   ],
   "source": [
    "# Class: Drilling\n",
    "\n",
    "filename = '../UrbanSound8K/audio/fold3/103199-4-0-0.wav'\n",
    "print_prediction(filename) "
   ]
  },
  {
   "cell_type": "code",
   "execution_count": 13,
   "metadata": {},
   "outputs": [
    {
     "name": "stdout",
     "output_type": "stream",
     "text": [
      "The predicted class is: street_music \n",
      "\n",
      "air_conditioner \t\t :  0.00599978538230061531066894531250\n",
      "car_horn \t\t :  0.00197564391419291496276855468750\n",
      "children_playing \t\t :  0.02159359492361545562744140625000\n",
      "dog_bark \t\t :  0.00240595825016498565673828125000\n",
      "drilling \t\t :  0.00002193588989030104130506515503\n",
      "engine_idling \t\t :  0.00003434154496062546968460083008\n",
      "gun_shot \t\t :  0.00000000047840309491675725439563\n",
      "jackhammer \t\t :  0.00000520726007380289956927299500\n",
      "siren \t\t :  0.00224740942940115928649902343750\n",
      "street_music \t\t :  0.96571612358093261718750000000000\n"
     ]
    }
   ],
   "source": [
    "# Class: Street music \n",
    "\n",
    "filename = '../UrbanSound8K/audio/fold7/101848-9-0-0.wav'\n",
    "print_prediction(filename) "
   ]
  },
  {
   "cell_type": "code",
   "execution_count": 14,
   "metadata": {},
   "outputs": [
    {
     "name": "stdout",
     "output_type": "stream",
     "text": [
      "The predicted class is: car_horn \n",
      "\n",
      "air_conditioner \t\t :  0.00215475377626717090606689453125\n",
      "car_horn \t\t :  0.24975246191024780273437500000000\n",
      "children_playing \t\t :  0.00224868883378803730010986328125\n",
      "dog_bark \t\t :  0.17384605109691619873046875000000\n",
      "drilling \t\t :  0.21584358811378479003906250000000\n",
      "engine_idling \t\t :  0.00714564463123679161071777343750\n",
      "gun_shot \t\t :  0.20734564960002899169921875000000\n",
      "jackhammer \t\t :  0.12255356460809707641601562500000\n",
      "siren \t\t :  0.01782992295920848846435546875000\n",
      "street_music \t\t :  0.00127960229292511940002441406250\n"
     ]
    }
   ],
   "source": [
    "# Class: Car Horn \n",
    "\n",
    "filename = '../UrbanSound8K/audio/fold10/100648-1-0-0.wav'\n",
    "print_prediction(filename) "
   ]
  },
  {
   "cell_type": "markdown",
   "metadata": {},
   "source": [
    "#### Observations \n",
    "\n",
    "We can see that the model performs well. \n",
    "\n",
    "Interestingly, car horn was again incorrectly classifed but this time as drilling - though the per class confidence shows it was a close decision between car horn with 26% confidence and drilling at 34% confidence.  "
   ]
  },
  {
   "cell_type": "markdown",
   "metadata": {},
   "source": [
    "### Other audio\n",
    "\n",
    "Again we will further validate our model using a sample of various copyright free sounds that we not part of either our test or training data. "
   ]
  },
  {
   "cell_type": "code",
   "execution_count": 15,
   "metadata": {},
   "outputs": [
    {
     "name": "stdout",
     "output_type": "stream",
     "text": [
      "The predicted class is: dog_bark \n",
      "\n",
      "air_conditioner \t\t :  0.00028464887873269617557525634766\n",
      "car_horn \t\t :  0.01682218536734580993652343750000\n",
      "children_playing \t\t :  0.00104110501706600189208984375000\n",
      "dog_bark \t\t :  0.93084555864334106445312500000000\n",
      "drilling \t\t :  0.03543039783835411071777343750000\n",
      "engine_idling \t\t :  0.00073492329102009534835815429688\n",
      "gun_shot \t\t :  0.00931918993592262268066406250000\n",
      "jackhammer \t\t :  0.00044781234464608132839202880859\n",
      "siren \t\t :  0.00377836846746504306793212890625\n",
      "street_music \t\t :  0.00129591778386384248733520507812\n"
     ]
    }
   ],
   "source": [
    "filename = 'Evaluation audio/dog_bark_1.wav'\n",
    "print_prediction(filename) "
   ]
  },
  {
   "cell_type": "code",
   "execution_count": 16,
   "metadata": {
    "scrolled": true
   },
   "outputs": [
    {
     "name": "stdout",
     "output_type": "stream",
     "text": [
      "The predicted class is: jackhammer \n",
      "\n",
      "air_conditioner \t\t :  0.03760356828570365905761718750000\n",
      "car_horn \t\t :  0.00001720797990856226533651351929\n",
      "children_playing \t\t :  0.00004938651181873865425586700439\n",
      "dog_bark \t\t :  0.00022485245426651090383529663086\n",
      "drilling \t\t :  0.01510195713490247726440429687500\n",
      "engine_idling \t\t :  0.00094820023514330387115478515625\n",
      "gun_shot \t\t :  0.00000354913413502799812704324722\n",
      "jackhammer \t\t :  0.94593375921249389648437500000000\n",
      "siren \t\t :  0.00010415645374450832605361938477\n",
      "street_music \t\t :  0.00001337047797278501093387603760\n"
     ]
    }
   ],
   "source": [
    "filename = 'Evaluation audio/drilling_1.wav'\n",
    "\n",
    "print_prediction(filename) "
   ]
  },
  {
   "cell_type": "code",
   "execution_count": 17,
   "metadata": {},
   "outputs": [
    {
     "name": "stdout",
     "output_type": "stream",
     "text": [
      "The predicted class is: gun_shot \n",
      "\n",
      "air_conditioner \t\t :  0.00010857681627385318279266357422\n",
      "car_horn \t\t :  0.00008629232615930959582328796387\n",
      "children_playing \t\t :  0.01643224433064460754394531250000\n",
      "dog_bark \t\t :  0.17698208987712860107421875000000\n",
      "drilling \t\t :  0.01865081302821636199951171875000\n",
      "engine_idling \t\t :  0.00137622072361409664154052734375\n",
      "gun_shot \t\t :  0.78479003906250000000000000000000\n",
      "jackhammer \t\t :  0.00000245173305302159860730171204\n",
      "siren \t\t :  0.00024371214385610073804855346680\n",
      "street_music \t\t :  0.00132761534769088029861450195312\n"
     ]
    }
   ],
   "source": [
    "filename = 'Evaluation audio/gun_shot_1.wav'\n",
    "\n",
    "print_prediction(filename) "
   ]
  },
  {
   "cell_type": "markdown",
   "metadata": {},
   "source": [
    "#### Observations \n",
    "\n",
    "The performance of our final model is very good and has generalised well, seeming to predict well when tested against new audio data. "
   ]
  }
 ],
 "metadata": {
  "kernelspec": {
   "display_name": "Python 3",
   "language": "python",
   "name": "python3"
  },
  "language_info": {
   "codemirror_mode": {
    "name": "ipython",
    "version": 3
   },
   "file_extension": ".py",
   "mimetype": "text/x-python",
   "name": "python",
   "nbconvert_exporter": "python",
   "pygments_lexer": "ipython3",
   "version": "3.6.9"
  }
 },
 "nbformat": 4,
 "nbformat_minor": 2
}
